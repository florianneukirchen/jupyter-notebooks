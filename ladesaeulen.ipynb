{
 "cells": [
  {
   "cell_type": "markdown",
   "metadata": {},
   "source": [
    "# Is this a chart or a map? (30DayMapChallenge 2023)\n",
    "### Charging Stations for Electric Cars in Berlin\n",
    "This notebook creates my contribution to day 28 of the [30DayMapChallenge 2023](https://30daymapchallenge.com/): \"Is this a chart or a map?\". Inspired by a [USGS map](https://twitter.com/USGS_DataSci/status/1645049420805820417), I wanted to place ribbons with histograms or lollipop plots to the sides of a gridded map."
   ]
  },
  {
   "cell_type": "code",
   "execution_count": 1,
   "metadata": {},
   "outputs": [],
   "source": [
    "import pandas as pd\n",
    "import geopandas as gpd\n",
    "import matplotlib.pyplot as plt\n",
    "import fiona\n",
    "import seaborn as sns\n",
    "import cmcrameri.cm as cmc # https://www.fabiocrameri.ch/colourmaps/\n"
   ]
  },
  {
   "cell_type": "markdown",
   "metadata": {},
   "source": [
    "I started in QGIS: pulling the location of charging stations from the WFS service of Geoportal Berlin, generating a grid (spacing 1 km) and counting the location per grid cell."
   ]
  },
  {
   "cell_type": "code",
   "execution_count": 2,
   "metadata": {},
   "outputs": [
    {
     "data": {
      "text/plain": [
       "['fiss_lades_standort', 'grid-hex', 'grid-berlin', 'count-hex', 'count-square']"
      ]
     },
     "execution_count": 2,
     "metadata": {},
     "output_type": "execute_result"
    }
   ],
   "source": [
    "fn = \"data/ladesaeulen.gpkg\"\n",
    "fiona.listlayers(fn)"
   ]
  },
  {
   "cell_type": "code",
   "execution_count": 3,
   "metadata": {},
   "outputs": [
    {
     "data": {
      "text/html": [
       "<div>\n",
       "<style scoped>\n",
       "    .dataframe tbody tr th:only-of-type {\n",
       "        vertical-align: middle;\n",
       "    }\n",
       "\n",
       "    .dataframe tbody tr th {\n",
       "        vertical-align: top;\n",
       "    }\n",
       "\n",
       "    .dataframe thead th {\n",
       "        text-align: right;\n",
       "    }\n",
       "</style>\n",
       "<table border=\"1\" class=\"dataframe\">\n",
       "  <thead>\n",
       "    <tr style=\"text-align: right;\">\n",
       "      <th></th>\n",
       "      <th>id</th>\n",
       "      <th>left</th>\n",
       "      <th>top</th>\n",
       "      <th>right</th>\n",
       "      <th>bottom</th>\n",
       "      <th>NUMPOINTS</th>\n",
       "      <th>geometry</th>\n",
       "    </tr>\n",
       "  </thead>\n",
       "  <tbody>\n",
       "    <tr>\n",
       "      <th>0</th>\n",
       "      <td>28</td>\n",
       "      <td>369761.359526</td>\n",
       "      <td>5.810889e+06</td>\n",
       "      <td>370761.359526</td>\n",
       "      <td>5.809889e+06</td>\n",
       "      <td>0.0</td>\n",
       "      <td>POLYGON ((369761.360 5810889.388, 370761.360 5...</td>\n",
       "    </tr>\n",
       "    <tr>\n",
       "      <th>1</th>\n",
       "      <td>29</td>\n",
       "      <td>369761.359526</td>\n",
       "      <td>5.809889e+06</td>\n",
       "      <td>370761.359526</td>\n",
       "      <td>5.808889e+06</td>\n",
       "      <td>0.0</td>\n",
       "      <td>POLYGON ((369761.360 5809889.388, 370761.360 5...</td>\n",
       "    </tr>\n",
       "    <tr>\n",
       "      <th>2</th>\n",
       "      <td>30</td>\n",
       "      <td>369761.359526</td>\n",
       "      <td>5.808889e+06</td>\n",
       "      <td>370761.359526</td>\n",
       "      <td>5.807889e+06</td>\n",
       "      <td>0.0</td>\n",
       "      <td>POLYGON ((369761.360 5808889.388, 370761.360 5...</td>\n",
       "    </tr>\n",
       "    <tr>\n",
       "      <th>3</th>\n",
       "      <td>63</td>\n",
       "      <td>370761.359526</td>\n",
       "      <td>5.814889e+06</td>\n",
       "      <td>371761.359526</td>\n",
       "      <td>5.813889e+06</td>\n",
       "      <td>0.0</td>\n",
       "      <td>POLYGON ((370761.360 5814889.388, 371761.360 5...</td>\n",
       "    </tr>\n",
       "    <tr>\n",
       "      <th>4</th>\n",
       "      <td>64</td>\n",
       "      <td>370761.359526</td>\n",
       "      <td>5.813889e+06</td>\n",
       "      <td>371761.359526</td>\n",
       "      <td>5.812889e+06</td>\n",
       "      <td>0.0</td>\n",
       "      <td>POLYGON ((370761.360 5813889.388, 371761.360 5...</td>\n",
       "    </tr>\n",
       "  </tbody>\n",
       "</table>\n",
       "</div>"
      ],
      "text/plain": [
       "   id           left           top          right        bottom  NUMPOINTS  \\\n",
       "0  28  369761.359526  5.810889e+06  370761.359526  5.809889e+06        0.0   \n",
       "1  29  369761.359526  5.809889e+06  370761.359526  5.808889e+06        0.0   \n",
       "2  30  369761.359526  5.808889e+06  370761.359526  5.807889e+06        0.0   \n",
       "3  63  370761.359526  5.814889e+06  371761.359526  5.813889e+06        0.0   \n",
       "4  64  370761.359526  5.813889e+06  371761.359526  5.812889e+06        0.0   \n",
       "\n",
       "                                            geometry  \n",
       "0  POLYGON ((369761.360 5810889.388, 370761.360 5...  \n",
       "1  POLYGON ((369761.360 5809889.388, 370761.360 5...  \n",
       "2  POLYGON ((369761.360 5808889.388, 370761.360 5...  \n",
       "3  POLYGON ((370761.360 5814889.388, 371761.360 5...  \n",
       "4  POLYGON ((370761.360 5813889.388, 371761.360 5...  "
      ]
     },
     "execution_count": 3,
     "metadata": {},
     "output_type": "execute_result"
    }
   ],
   "source": [
    "gdf = gpd.read_file(fn, layer='count-square')\n",
    "gdf.head()"
   ]
  },
  {
   "cell_type": "code",
   "execution_count": 4,
   "metadata": {},
   "outputs": [
    {
     "data": {
      "text/plain": [
       "64.0"
      ]
     },
     "execution_count": 4,
     "metadata": {},
     "output_type": "execute_result"
    }
   ],
   "source": [
    "gdf['NUMPOINTS'].max()"
   ]
  },
  {
   "cell_type": "markdown",
   "metadata": {},
   "source": [
    "The columns left, top, right, buttom are the coordinates of the grid cells. Let's calculate the center of the cells."
   ]
  },
  {
   "cell_type": "code",
   "execution_count": 5,
   "metadata": {},
   "outputs": [
    {
     "data": {
      "text/html": [
       "<div>\n",
       "<style scoped>\n",
       "    .dataframe tbody tr th:only-of-type {\n",
       "        vertical-align: middle;\n",
       "    }\n",
       "\n",
       "    .dataframe tbody tr th {\n",
       "        vertical-align: top;\n",
       "    }\n",
       "\n",
       "    .dataframe thead th {\n",
       "        text-align: right;\n",
       "    }\n",
       "</style>\n",
       "<table border=\"1\" class=\"dataframe\">\n",
       "  <thead>\n",
       "    <tr style=\"text-align: right;\">\n",
       "      <th></th>\n",
       "      <th>id</th>\n",
       "      <th>left</th>\n",
       "      <th>top</th>\n",
       "      <th>right</th>\n",
       "      <th>bottom</th>\n",
       "      <th>NUMPOINTS</th>\n",
       "      <th>geometry</th>\n",
       "      <th>center_x</th>\n",
       "      <th>center_y</th>\n",
       "    </tr>\n",
       "  </thead>\n",
       "  <tbody>\n",
       "    <tr>\n",
       "      <th>0</th>\n",
       "      <td>28</td>\n",
       "      <td>369761.359526</td>\n",
       "      <td>5.810889e+06</td>\n",
       "      <td>370761.359526</td>\n",
       "      <td>5.809889e+06</td>\n",
       "      <td>0.0</td>\n",
       "      <td>POLYGON ((369761.360 5810889.388, 370761.360 5...</td>\n",
       "      <td>370261.359526</td>\n",
       "      <td>5.810389e+06</td>\n",
       "    </tr>\n",
       "    <tr>\n",
       "      <th>1</th>\n",
       "      <td>29</td>\n",
       "      <td>369761.359526</td>\n",
       "      <td>5.809889e+06</td>\n",
       "      <td>370761.359526</td>\n",
       "      <td>5.808889e+06</td>\n",
       "      <td>0.0</td>\n",
       "      <td>POLYGON ((369761.360 5809889.388, 370761.360 5...</td>\n",
       "      <td>370261.359526</td>\n",
       "      <td>5.809389e+06</td>\n",
       "    </tr>\n",
       "    <tr>\n",
       "      <th>2</th>\n",
       "      <td>30</td>\n",
       "      <td>369761.359526</td>\n",
       "      <td>5.808889e+06</td>\n",
       "      <td>370761.359526</td>\n",
       "      <td>5.807889e+06</td>\n",
       "      <td>0.0</td>\n",
       "      <td>POLYGON ((369761.360 5808889.388, 370761.360 5...</td>\n",
       "      <td>370261.359526</td>\n",
       "      <td>5.808389e+06</td>\n",
       "    </tr>\n",
       "    <tr>\n",
       "      <th>3</th>\n",
       "      <td>63</td>\n",
       "      <td>370761.359526</td>\n",
       "      <td>5.814889e+06</td>\n",
       "      <td>371761.359526</td>\n",
       "      <td>5.813889e+06</td>\n",
       "      <td>0.0</td>\n",
       "      <td>POLYGON ((370761.360 5814889.388, 371761.360 5...</td>\n",
       "      <td>371261.359526</td>\n",
       "      <td>5.814389e+06</td>\n",
       "    </tr>\n",
       "    <tr>\n",
       "      <th>4</th>\n",
       "      <td>64</td>\n",
       "      <td>370761.359526</td>\n",
       "      <td>5.813889e+06</td>\n",
       "      <td>371761.359526</td>\n",
       "      <td>5.812889e+06</td>\n",
       "      <td>0.0</td>\n",
       "      <td>POLYGON ((370761.360 5813889.388, 371761.360 5...</td>\n",
       "      <td>371261.359526</td>\n",
       "      <td>5.813389e+06</td>\n",
       "    </tr>\n",
       "  </tbody>\n",
       "</table>\n",
       "</div>"
      ],
      "text/plain": [
       "   id           left           top          right        bottom  NUMPOINTS  \\\n",
       "0  28  369761.359526  5.810889e+06  370761.359526  5.809889e+06        0.0   \n",
       "1  29  369761.359526  5.809889e+06  370761.359526  5.808889e+06        0.0   \n",
       "2  30  369761.359526  5.808889e+06  370761.359526  5.807889e+06        0.0   \n",
       "3  63  370761.359526  5.814889e+06  371761.359526  5.813889e+06        0.0   \n",
       "4  64  370761.359526  5.813889e+06  371761.359526  5.812889e+06        0.0   \n",
       "\n",
       "                                            geometry       center_x  \\\n",
       "0  POLYGON ((369761.360 5810889.388, 370761.360 5...  370261.359526   \n",
       "1  POLYGON ((369761.360 5809889.388, 370761.360 5...  370261.359526   \n",
       "2  POLYGON ((369761.360 5808889.388, 370761.360 5...  370261.359526   \n",
       "3  POLYGON ((370761.360 5814889.388, 371761.360 5...  371261.359526   \n",
       "4  POLYGON ((370761.360 5813889.388, 371761.360 5...  371261.359526   \n",
       "\n",
       "       center_y  \n",
       "0  5.810389e+06  \n",
       "1  5.809389e+06  \n",
       "2  5.808389e+06  \n",
       "3  5.814389e+06  \n",
       "4  5.813389e+06  "
      ]
     },
     "execution_count": 5,
     "metadata": {},
     "output_type": "execute_result"
    }
   ],
   "source": [
    "gdf['center_x'] = gdf['left'] + (gdf['right'] - gdf['left']) / 2\n",
    "gdf['center_y'] = gdf['bottom'] + (gdf['top'] - gdf['bottom']) / 2\n",
    "gdf.head()"
   ]
  },
  {
   "cell_type": "markdown",
   "metadata": {},
   "source": [
    "Calculate the sum of each row / column"
   ]
  },
  {
   "cell_type": "code",
   "execution_count": 6,
   "metadata": {},
   "outputs": [],
   "source": [
    "gx = gdf.groupby(\"center_x\")[\"NUMPOINTS\"].sum().reset_index()\n",
    "gy = gdf.groupby(\"center_y\")[\"NUMPOINTS\"].sum().reset_index()"
   ]
  },
  {
   "cell_type": "markdown",
   "metadata": {},
   "source": [
    "Calculate max of each row / column (could be used instead of sum for the ribbon charts)"
   ]
  },
  {
   "cell_type": "code",
   "execution_count": 7,
   "metadata": {},
   "outputs": [],
   "source": [
    "maxx = gdf.groupby(\"center_x\")[\"NUMPOINTS\"].max().reset_index()\n",
    "maxy = gdf.groupby(\"center_y\")[\"NUMPOINTS\"].max().reset_index()"
   ]
  },
  {
   "cell_type": "markdown",
   "metadata": {},
   "source": [
    "## First map\n",
    "It took me a while with trial and error to get the subplots to be of the correct size and with matching axes..."
   ]
  },
  {
   "cell_type": "code",
   "execution_count": 8,
   "metadata": {},
   "outputs": [
    {
     "name": "stderr",
     "output_type": "stream",
     "text": [
      "/home/riannek/miniconda3/envs/forge/lib/python3.10/site-packages/geopandas/plotting.py:777: UserWarning: Numba not installed. Using slow pure python version.\n",
      "  binning = mapclassify.classify(\n"
     ]
    },
    {
     "data": {
      "image/png": "[encoded data removed]",
      "text/plain": [
       "<Figure size 1000x1000 with 4 Axes>"
      ]
     },
     "metadata": {},
     "output_type": "display_data"
    }
   ],
   "source": [
    "\n",
    "subplotratio = 4 # Map is subplotratio times larger than ribbons\n",
    "\n",
    "fig, axs = plt.subplots(2,2, figsize=(10,10), layout=\"tight\",   \n",
    "                        width_ratios=[subplotratio,1], \n",
    "                        height_ratios=[1,subplotratio],\n",
    "                        )\n",
    "\n",
    "# Use the plotting function of geopandas to plot the map, classification scheme is fisher_jenks\n",
    "gdf.plot(column='NUMPOINTS', scheme='fisher_jenks', k=8,cmap=cmc.imola, ax=axs[1,0])\n",
    "\n",
    "axs[0,0].vlines(x=gx[\"center_x\"], ymin=0, ymax=gx[\"NUMPOINTS\"])\n",
    "axs[0,0].plot(gx[\"center_x\"], gx[\"NUMPOINTS\"], \".\")\n",
    "\n",
    "axs[1,1].hlines(y=gy[\"center_y\"], xmin=0, xmax=gy[\"NUMPOINTS\"])\n",
    "axs[1,1].plot(gy[\"NUMPOINTS\"], gy[\"center_y\"], \".\")\n",
    "\n",
    "# Force the right ribbon to be the same height as the map\n",
    "\n",
    "mapheight = axs[1,0].get_ylim()[1] - axs[1,0].get_ylim()[0]\n",
    "mapwidth = axs[1,0].get_xlim()[1] - axs[1,0].get_xlim()[0]\n",
    "\n",
    "axs[1,1].set_box_aspect((mapheight * subplotratio) / mapwidth )\n",
    "\n",
    "\n",
    "for ax in axs.ravel():\n",
    "    ax.set_axis_off()\n"
   ]
  },
  {
   "cell_type": "markdown",
   "metadata": {},
   "source": [
    "## Find out more about the data"
   ]
  },
  {
   "cell_type": "code",
   "execution_count": 9,
   "metadata": {},
   "outputs": [
    {
     "data": {
      "text/plain": [
       "144.0"
      ]
     },
     "execution_count": 9,
     "metadata": {},
     "output_type": "execute_result"
    }
   ],
   "source": [
    "gx['NUMPOINTS'].max()"
   ]
  },
  {
   "cell_type": "code",
   "execution_count": 10,
   "metadata": {},
   "outputs": [
    {
     "data": {
      "text/plain": [
       "389261.3595258051"
      ]
     },
     "execution_count": 10,
     "metadata": {},
     "output_type": "execute_result"
    }
   ],
   "source": [
    "\n",
    "gx['center_x'].loc[gx['NUMPOINTS'].idxmax()]"
   ]
  },
  {
   "cell_type": "code",
   "execution_count": 11,
   "metadata": {},
   "outputs": [
    {
     "data": {
      "text/plain": [
       "389261.3595258051"
      ]
     },
     "execution_count": 11,
     "metadata": {},
     "output_type": "execute_result"
    }
   ],
   "source": [
    "gx['center_x'].loc[19]"
   ]
  },
  {
   "cell_type": "code",
   "execution_count": 12,
   "metadata": {},
   "outputs": [
    {
     "data": {
      "text/html": [
       "<div>\n",
       "<style scoped>\n",
       "    .dataframe tbody tr th:only-of-type {\n",
       "        vertical-align: middle;\n",
       "    }\n",
       "\n",
       "    .dataframe tbody tr th {\n",
       "        vertical-align: top;\n",
       "    }\n",
       "\n",
       "    .dataframe thead th {\n",
       "        text-align: right;\n",
       "    }\n",
       "</style>\n",
       "<table border=\"1\" class=\"dataframe\">\n",
       "  <thead>\n",
       "    <tr style=\"text-align: right;\">\n",
       "      <th></th>\n",
       "      <th>center_y</th>\n",
       "      <th>NUMPOINTS</th>\n",
       "    </tr>\n",
       "  </thead>\n",
       "  <tbody>\n",
       "    <tr>\n",
       "      <th>0</th>\n",
       "      <td>5.799389e+06</td>\n",
       "      <td>0.0</td>\n",
       "    </tr>\n",
       "    <tr>\n",
       "      <th>1</th>\n",
       "      <td>5.800389e+06</td>\n",
       "      <td>0.0</td>\n",
       "    </tr>\n",
       "    <tr>\n",
       "      <th>2</th>\n",
       "      <td>5.801389e+06</td>\n",
       "      <td>0.0</td>\n",
       "    </tr>\n",
       "    <tr>\n",
       "      <th>3</th>\n",
       "      <td>5.802389e+06</td>\n",
       "      <td>0.0</td>\n",
       "    </tr>\n",
       "    <tr>\n",
       "      <th>4</th>\n",
       "      <td>5.803389e+06</td>\n",
       "      <td>0.0</td>\n",
       "    </tr>\n",
       "  </tbody>\n",
       "</table>\n",
       "</div>"
      ],
      "text/plain": [
       "       center_y  NUMPOINTS\n",
       "0  5.799389e+06        0.0\n",
       "1  5.800389e+06        0.0\n",
       "2  5.801389e+06        0.0\n",
       "3  5.802389e+06        0.0\n",
       "4  5.803389e+06        0.0"
      ]
     },
     "execution_count": 12,
     "metadata": {},
     "output_type": "execute_result"
    }
   ],
   "source": [
    "gy.head()"
   ]
  },
  {
   "cell_type": "markdown",
   "metadata": {},
   "source": [
    "## Make the plot prettier\n",
    "Use batlow as cmap, add title, legend and anotations, change the font, ..."
   ]
  },
  {
   "cell_type": "code",
   "execution_count": 13,
   "metadata": {},
   "outputs": [
    {
     "name": "stderr",
     "output_type": "stream",
     "text": [
      "/home/riannek/miniconda3/envs/forge/lib/python3.10/site-packages/geopandas/plotting.py:777: UserWarning: Numba not installed. Using slow pure python version.\n",
      "  binning = mapclassify.classify(\n"
     ]
    },
    {
     "data": {
      "text/plain": [
       "Text(-50, -50, 'Sum of 206')"
      ]
     },
     "execution_count": 13,
     "metadata": {},
     "output_type": "execute_result"
    },
    {
     "data": {
      "image/png": "[encoded data removed]",
      "text/plain": [
       "<Figure size 1000x1000 with 4 Axes>"
      ]
     },
     "metadata": {},
     "output_type": "display_data"
    }
   ],
   "source": [
    "subplotratio = 3 # Map is subplotratio times larger than ribbons\n",
    "\n",
    "font = 'Urbanist'\n",
    "\n",
    "cmap = cmc.batlow\n",
    "color = '#011959'\n",
    "\n",
    "\n",
    "fig, axs = plt.subplots(2,2, figsize=(10,10), layout=\"tight\",   \n",
    "                        width_ratios=[subplotratio,1], \n",
    "                        height_ratios=[1,subplotratio],\n",
    "                        )\n",
    "\n",
    "fig.suptitle('Charging Stations for Electric Cars in Berlin', fontsize=18, fontname=font)\n",
    "\n",
    "# Use the plotting function of geopandas to plot the map, classification scheme is fisher_jenks\n",
    "gdf.plot(column='NUMPOINTS', scheme='fisher_jenks', k=8,cmap=cmap, ax=axs[1,0], legend=True)\n",
    "\n",
    "axs[0,0].vlines(x=gx[\"center_x\"], ymin=0, ymax=gx[\"NUMPOINTS\"], color=color)\n",
    "axs[0,0].plot(gx[\"center_x\"], gx[\"NUMPOINTS\"], \".\", color=color)\n",
    "\n",
    "axs[1,1].hlines(y=gy[\"center_y\"], xmin=0, xmax=gy[\"NUMPOINTS\"], color=color)\n",
    "axs[1,1].plot(gy[\"NUMPOINTS\"], gy[\"center_y\"], \".\", color=color)\n",
    "\n",
    "# Force the right ribbon to be the same height as the map\n",
    "\n",
    "mapheight = axs[1,0].get_ylim()[1] - axs[1,0].get_ylim()[0]\n",
    "mapwidth = axs[1,0].get_xlim()[1] - axs[1,0].get_xlim()[0]\n",
    "\n",
    "axs[1,1].set_box_aspect((mapheight * subplotratio) / mapwidth )\n",
    "\n",
    "# Swithc of x,y axis for all subplots\n",
    "\n",
    "for ax in axs.ravel():\n",
    "    ax.set_axis_off()\n",
    "\n",
    "# Hide border of legend\n",
    "leg = axs[1,0].get_legend()\n",
    "leg.get_frame().set_alpha(0)\n",
    "\n",
    "\n",
    "# Text \n",
    "\n",
    "s = 'Grid spacing: 1 × 1 km'\n",
    "fig.text(0.8,0.8,s)\n",
    "\n",
    "# fig.text(0.01,0.6,s)\n",
    "# fig.text(0.3,0.15,s)\n",
    "\n",
    "\n",
    "# Text below chart\n",
    "\n",
    "s = '#30DayMapChallenge | Day 28 | Is this a chart or a map? | Florian Neukirchen @fneukirchen | Data: Geoportal Berlin / Elektro-Ladesäulen'\n",
    "fig.text(0.01,0.08,s, fontname=font, size=8)\n",
    "\n",
    "\n",
    "# Annotate upper ribbon\n",
    "\n",
    "x = gx['center_x'].loc[gx['NUMPOINTS'].idxmax()]\n",
    "y = gx['NUMPOINTS'].max()\n",
    "\n",
    "axs[0,0].annotate(f\"Sum of {round(gx['NUMPOINTS'].max())} along the grid\", xy=(x, y),\n",
    "            xytext=(25, -25), textcoords='offset points',\n",
    "            arrowprops=dict(arrowstyle=\"->\",\n",
    "                            connectionstyle=\"arc3,rad=-0.2\"))\n",
    "\n",
    "# Annotate right ribbon\n",
    "\n",
    "y = gy['center_y'].loc[gx['NUMPOINTS'].idxmax()]\n",
    "x = gy['NUMPOINTS'].max()\n",
    "\n",
    "axs[1,1].annotate(f\"Sum of {round(gy['NUMPOINTS'].max())}\", xy=(x, y),\n",
    "            xytext=(-50, -50), textcoords='offset points',\n",
    "            arrowprops=dict(arrowstyle=\"->\",\n",
    "                            connectionstyle=\"angle3,angleA=0,angleB=-90\"))"
   ]
  },
  {
   "cell_type": "code",
   "execution_count": 14,
   "metadata": {},
   "outputs": [],
   "source": [
    "# fig.savefig(\"ladesaeulen.png\", dpi=300, bbox_inches='tight')"
   ]
  },
  {
   "cell_type": "code",
   "execution_count": null,
   "metadata": {},
   "outputs": [],
   "source": []
  }
 ],
 "metadata": {
  "kernelspec": {
   "display_name": "forge",
   "language": "python",
   "name": "forge"
  },
  "language_info": {
   "codemirror_mode": {
    "name": "ipython",
    "version": 3
   },
   "file_extension": ".py",
   "mimetype": "text/x-python",
   "name": "python",
   "nbconvert_exporter": "python",
   "pygments_lexer": "ipython3",
   "version": "3.10.12"
  }
 },
 "nbformat": 4,
 "nbformat_minor": 2
}
