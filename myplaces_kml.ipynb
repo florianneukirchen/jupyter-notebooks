{
 "cells": [
  {
   "attachments": {},
   "cell_type": "markdown",
   "id": "01b26a22-df01-49e2-ba2c-9c31c91c00b0",
   "metadata": {},
   "source": [
    "# Two ways to open myplaces.kml (Google Earth) in Geopandas\n",
    "Do you want to get your placesmarks from Google Earth into a geopandas GeoDataFrame? Well, you can't just call gpd.read_file() on a KML like you are used to, but it is possible if you register a fiona driver. However you'll be dissappointed if you organized your placemarks in folders and you do not want to loose this information ...\n",
    "\n",
    "I propose an alternative way (without any additional packages) using python's minidom to get a GeoDataFrame including a column with the complete path of each placemark. KML is XML anyway ..."
   ]
  },
  {
   "cell_type": "code",
   "execution_count": null,
   "id": "894ba2f1-a0c4-41d2-b4be-11035d033248",
   "metadata": {},
   "outputs": [],
   "source": [
    "import pandas as pd\n",
    "import geopandas as gpd\n",
    "import matplotlib.pyplot as plt\n",
    "from xml.dom.minidom import *\n",
    "import fiona \n",
    "\n",
    "# Path to your myplaces.kml\n",
    "url = \"myplaces.kml\""
   ]
  },
  {
   "attachments": {},
   "cell_type": "markdown",
   "id": "26b1f34c",
   "metadata": {},
   "source": [
    "## Open KML directly with geopandas and fiona driver\n",
    "This is the easy and fast approach. "
   ]
  },
  {
   "cell_type": "code",
   "execution_count": null,
   "id": "1ab7542e",
   "metadata": {},
   "outputs": [],
   "source": [
    "\n",
    "# Register driver\n",
    "gpd.io.file.fiona.drvsupport.supported_drivers['LIBKML'] = 'rw'\n",
    "\n",
    "# Open KML\n",
    "gdf = gpd.read_file(url, driver='LIBKML')\n",
    "\n",
    "# However the first approach might not work:\n",
    "gdf.head()"
   ]
  },
  {
   "attachments": {},
   "cell_type": "markdown",
   "id": "a7fe34bb",
   "metadata": {},
   "source": [
    "With the first approach however, we only get the placemarks of the base folder of myplaces. Fiona treats each folder as layer and we can iterate through these layers:"
   ]
  },
  {
   "cell_type": "code",
   "execution_count": null,
   "id": "4ee4d9fe",
   "metadata": {},
   "outputs": [],
   "source": [
    "fiona.listlayers(url)"
   ]
  },
  {
   "cell_type": "code",
   "execution_count": null,
   "id": "864ffa6b",
   "metadata": {},
   "outputs": [],
   "source": [
    "gdf_list = []\n",
    "for layer in fiona.listlayers(url):\n",
    "    gdf  = gpd.read_file(url, driver='LIBKML', layer=layer)\n",
    "    gdf['folder'] = layer\n",
    "    gdf_list.append(gdf)\n",
    "\n",
    "gdf = gpd.GeoDataFrame(pd.concat(gdf_list, ignore_index=True))\n",
    "gdf.head()"
   ]
  },
  {
   "attachments": {},
   "cell_type": "markdown",
   "id": "be9721a8",
   "metadata": {},
   "source": [
    "Not bad, we even added a column with the folder of the placemark. However with if you have nested folders, you loose information of the parent folders. I tried several third party python KML libraries, but it turned out easier to parse the KML myself using pythons minidom. \n",
    "## Opening KML with minidom\n",
    "Minidom is one of pythons standard ways to parse XML files. I define a function to recursively get all the parent folders of each folder recursively and then I get the data for each placemark. This code is slow, but good enough for personal use."
   ]
  },
  {
   "cell_type": "code",
   "execution_count": null,
   "id": "6bb713a9-3455-4268-a82a-2a6e0e456da8",
   "metadata": {},
   "outputs": [],
   "source": [
    "dom = parse(url)"
   ]
  },
  {
   "cell_type": "code",
   "execution_count": null,
   "id": "c4cc8e1c-8624-43a2-bb43-c76cb1d7f488",
   "metadata": {},
   "outputs": [],
   "source": [
    "# Get Path with all subfolders\n",
    "def subfolders(node):\n",
    "    if node.parentNode == dom.documentElement:\n",
    "        return \"\"\n",
    "    else:\n",
    "        foldername = node.getElementsByTagName(\"name\")[0].firstChild.data\n",
    "        path = subfolders(node.parentNode) + \"/\" + foldername\n",
    "    return path"
   ]
  },
  {
   "cell_type": "code",
   "execution_count": null,
   "id": "19789793-6f8d-4500-b487-2fef5d9ed9b9",
   "metadata": {
    "tags": []
   },
   "outputs": [],
   "source": [
    "entries = []\n",
    "placemarks = dom.getElementsByTagName(\"Placemark\")\n",
    "\n",
    "for i in placemarks:\n",
    "    longitude = i.getElementsByTagName(\"longitude\")[0].firstChild.data\n",
    "    latitude = i.getElementsByTagName(\"latitude\")[0].firstChild.data\n",
    "    try:\n",
    "        name = i.getElementsByTagName(\"name\")[0].firstChild.data\n",
    "    except:\n",
    "        name = \"\"\n",
    "    parent = i.parentNode\n",
    "    foldername = parent.getElementsByTagName(\"name\")[0].firstChild.data\n",
    "    path = subfolders(parent) \n",
    "    entries.append((name, latitude, longitude, foldername, path)) # List of tuples"
   ]
  },
  {
   "cell_type": "code",
   "execution_count": null,
   "id": "d7399861-5377-466a-9309-a5f4cce791ac",
   "metadata": {},
   "outputs": [],
   "source": [
    "df = pd.DataFrame(entries, columns=('name', 'latitude', 'longitude', 'folder', 'path'))"
   ]
  },
  {
   "cell_type": "code",
   "execution_count": null,
   "id": "95c52a74-7929-4816-a4e5-f408717b0892",
   "metadata": {},
   "outputs": [],
   "source": [
    "df.head()"
   ]
  },
  {
   "cell_type": "code",
   "execution_count": null,
   "id": "87caf143-1339-45d8-8a0b-511297612aed",
   "metadata": {},
   "outputs": [],
   "source": [
    "gdf = gpd.GeoDataFrame(df, geometry=gpd.points_from_xy(df.longitude, df.latitude, crs=\"EPSG:4326\"))\n"
   ]
  },
  {
   "cell_type": "code",
   "execution_count": null,
   "id": "75b38a60-00bf-4a91-9eb7-6e9de40334e6",
   "metadata": {
    "tags": []
   },
   "outputs": [],
   "source": [
    "gdf.head()"
   ]
  },
  {
   "cell_type": "code",
   "execution_count": null,
   "id": "9ec921dd-60fe-420c-9bc1-233831fbe903",
   "metadata": {},
   "outputs": [],
   "source": [
    "#gdf.to_csv(\"myplaces.csv\")"
   ]
  },
  {
   "cell_type": "code",
   "execution_count": null,
   "id": "dc81f879-56d5-4d72-a080-be8d5716288c",
   "metadata": {},
   "outputs": [],
   "source": [
    "#gdf = gpd.read_file(\"myplaces.csv\")"
   ]
  },
  {
   "attachments": {},
   "cell_type": "markdown",
   "id": "ee3879cd",
   "metadata": {},
   "source": [
    "## Plots just for fun"
   ]
  },
  {
   "cell_type": "code",
   "execution_count": null,
   "id": "f896a84b-1c68-4765-89c7-3da08dd6273f",
   "metadata": {},
   "outputs": [],
   "source": [
    "natearth = gpd.read_file(gpd.datasets.get_path('naturalearth_lowres'))"
   ]
  },
  {
   "cell_type": "code",
   "execution_count": null,
   "id": "6235cfdd-1114-4c95-8392-6ec7186fa4bd",
   "metadata": {},
   "outputs": [],
   "source": [
    "fig, ax = plt.subplots(figsize=(10,5))\n",
    "natearth.plot(ax=ax, color=\"darkgrey\", edgecolor=\"lightgrey\")\n",
    "gdf.plot(ax=ax, color=\"red\", marker=\".\")"
   ]
  },
  {
   "cell_type": "code",
   "execution_count": null,
   "id": "a86eb5dc-a84e-4535-8b06-379e2220167b",
   "metadata": {},
   "outputs": [],
   "source": []
  },
  {
   "cell_type": "code",
   "execution_count": null,
   "id": "7ac914dd-3162-4189-92da-e15d36266012",
   "metadata": {},
   "outputs": [],
   "source": [
    "allpoints = gdf.dissolve()\n",
    "\n",
    "fig, ax = plt.subplots(figsize=(10,5))\n",
    "natearth.plot(ax=ax, color=\"darkgrey\", edgecolor=\"lightgrey\")\n",
    "gdf.plot(ax=ax, color=\"blue\", marker=\".\")\n",
    "allpoints.convex_hull.plot(ax=ax, color=\"none\", edgecolor=\"red\")\n",
    "ax.set_axis_off()"
   ]
  },
  {
   "cell_type": "code",
   "execution_count": null,
   "id": "1924a65d-9de3-48f1-9afe-5d7007e430cd",
   "metadata": {},
   "outputs": [],
   "source": [
    "# fig.savefig(\"bounding-box.png\")"
   ]
  },
  {
   "cell_type": "code",
   "execution_count": null,
   "id": "3455311f-c4b9-4fa1-8dbb-e3ab084627c0",
   "metadata": {},
   "outputs": [],
   "source": []
  }
 ],
 "metadata": {
  "kernelspec": {
   "display_name": "forge",
   "language": "python",
   "name": "forge"
  },
  "language_info": {
   "codemirror_mode": {
    "name": "ipython",
    "version": 3
   },
   "file_extension": ".py",
   "mimetype": "text/x-python",
   "name": "python",
   "nbconvert_exporter": "python",
   "pygments_lexer": "ipython3",
   "version": "3.10.8"
  }
 },
 "nbformat": 4,
 "nbformat_minor": 5
}
