{
 "cells": [
  {
   "cell_type": "markdown",
   "id": "7a979cc0-c7d4-4fb5-88d0-3aa277e00358",
   "metadata": {},
   "source": [
    "# Explore your runkeeper GPS tracks with python\n",
    "Jupyter Notebook by Florian Neukirchen. This jupyter notebook accompanies my blog posts:\n",
    "\n",
    "- https://www.riannek.de/2022/runkeeper-gps-tracks-python-part-1/ \n",
    "- https://www.riannek.de/2022/runkeeper-gps-tracks-python-part-2/\n",
    "\n",
    "See my blog about further details.\n",
    "\n",
    "## Read the files and prepare GeoDataFrame"
   ]
  },
  {
   "cell_type": "code",
   "execution_count": null,
   "id": "065a8efc-361b-4513-a0ea-bab678bd073c",
   "metadata": {},
   "outputs": [],
   "source": [
    "import pandas as pd\n",
    "import geopandas as gpd\n",
    "import numpy as np\n",
    "import os\n",
    "from shapely.geometry import LineString\n",
    "\n",
    "folder = \"gpx/\""
   ]
  },
  {
   "cell_type": "code",
   "execution_count": null,
   "id": "44563f3e-53a2-4284-abc4-330031bf00e5",
   "metadata": {},
   "outputs": [],
   "source": [
    "def prepare_dataframes(gdf, track_name):\n",
    "    \"\"\" Calculate distance, speed etc. from raw data of gpx trackpoints. \n",
    "    Return two GeoDataframes: points and (connecting) lines.\n",
    "    \"\"\"\n",
    "    gdf.index.names = ['point_id'] \n",
    "    gdf['time'] = pd.to_datetime(gdf['time'])\n",
    "    gdf.dropna(axis=1, inplace=True)\n",
    "    gdf.drop(columns=['track_fid', 'track_seg_id', 'track_seg_point_id'], inplace=True)\n",
    "\n",
    "    # Use local UTM to get geometry in meters\n",
    "    gdf = gdf.to_crs(gdf.estimate_utm_crs())\n",
    "\n",
    "    # shifted gdf gives us the next point with the same index\n",
    "    # allows calculations without the need of a loop\n",
    "    shifted_gdf = gdf.shift(-1)\n",
    "    \n",
    "    gdf['time_delta'] = shifted_gdf['time'] - gdf['time'] \n",
    "    gdf['time_delta_s'] = gdf['time_delta'].dt.seconds\n",
    "    gdf['dist_delta'] = gdf.distance(shifted_gdf)\n",
    "    \n",
    "    # In one track, after making a pause, I had a weird outlier 1.6 km away of my real position. \n",
    "    # Therefore I replace dist_delta > 100 m with NAN. \n",
    "    # This should be counted as pause.\n",
    "    gdf['dist_delta'] = np.where(gdf['dist_delta']>100, np.nan, gdf['dist_delta'])\n",
    "\n",
    "    # speed in various formats\n",
    "    gdf['m_per_s'] = gdf['dist_delta'] / gdf.time_delta.dt.seconds \n",
    "    gdf['km_per_h'] = gdf['m_per_s'] * 3.6\n",
    "    gdf['min_per_km'] = 60 / (gdf['km_per_h'])\n",
    "    \n",
    "    # We now might have speeds with NAN (pauses, see above)\n",
    "    # Fill NAN with 0 for easy filtering of pauses\n",
    "    gdf['km_per_h'].fillna(0)\n",
    "\n",
    "\n",
    "    # covered distance (meters) and time passed\n",
    "    gdf['distance'] = gdf['dist_delta'].cumsum()\n",
    "    gdf['time_passed'] = gdf['time_delta'].cumsum()\n",
    "    \n",
    "    # Minutes instead datetime might be useful\n",
    "    gdf['minutes'] = gdf['time_passed'].dt.seconds / 60\n",
    "\n",
    "    # Splits (in km) might be usefull for grouping\n",
    "    gdf['splits'] = gdf['distance'] // 1000\n",
    "\n",
    "    # ascent is = elevation delta, but only positive values\n",
    "    gdf['ele_delta'] = shifted_gdf['ele'] - gdf['ele']  \n",
    "    gdf['ascent'] = gdf['ele_delta']\n",
    "    gdf.loc[gdf.ascent < 0, ['ascent']] = 0\n",
    "\n",
    "    # Slope in %\n",
    "    gdf['slope'] = 100 * gdf['ele_delta'] / gdf['dist_delta']   \n",
    "   \n",
    "    # slope and min_per_km can be infinite if 0 km/h\n",
    "    # Replace inf with nan for better plotting\n",
    "    gdf.replace(np.inf, np.nan, inplace=True)\n",
    "    gdf.replace(-np.inf, np.nan, inplace=True)\n",
    "\n",
    "    # Ele normalized: Startpoint as 0\n",
    "    gdf['ele_normalized'] = gdf['ele'] - gdf.loc[0]['ele']\n",
    "    \n",
    "    # Back to WGS84 (we might have tracks from different places)\n",
    "    gdf = gdf.to_crs(epsg = 4326)\n",
    "    shifted_gdf = shifted_gdf.to_crs(epsg = 4326)\n",
    "    \n",
    "    # Create another geodataframe with lines instead of points as geometry.\n",
    "    lines = gdf.iloc[:-1].copy() # Drop the last row\n",
    "    lines['next_point'] =  shifted_gdf['geometry']\n",
    "    lines['line_segment'] = lines.apply(lambda row: LineString([row['geometry'], row['next_point']]), axis=1) \n",
    "    lines.set_geometry('line_segment', inplace=True, drop=True)\n",
    "    lines.drop(columns='next_point', inplace=True)\n",
    "    lines.index.names = ['segment_id'] \n",
    "    \n",
    "    # Add track name and use it for multiindex\n",
    "    gdf['track_name'] = track_name\n",
    "    lines['track_name'] = track_name\n",
    "    gdf.reset_index(inplace=True)\n",
    "    gdf.set_index(['track_name', 'point_id'], inplace=True)\n",
    "    lines.reset_index(inplace=True)\n",
    "    lines.set_index(['track_name', 'segment_id'], inplace=True)\n",
    "    return gdf, lines"
   ]
  },
  {
   "cell_type": "code",
   "execution_count": null,
   "id": "082bfb2f-47a3-4549-acc6-1aa1f00826bd",
   "metadata": {},
   "outputs": [],
   "source": [
    "# Prepare empty Geodataframes\n",
    "points = gpd.GeoDataFrame()\n",
    "lines = gpd.GeoDataFrame()\n",
    "\n",
    "# And populate them with data from gpx files\n",
    "for file in os.listdir(folder):\n",
    "    if file.endswith(('.gpx')):\n",
    "        try:\n",
    "            rawdata = gpd.read_file(folder + file, layer='track_points')\n",
    "            track_points, track_lines = prepare_dataframes(rawdata, file)\n",
    "            points = pd.concat([points, track_points])\n",
    "            lines = pd.concat([lines, track_lines])\n",
    "        except:\n",
    "            print(\"Error\", file)\n"
   ]
  },
  {
   "cell_type": "code",
   "execution_count": null,
   "id": "48de667a-41dc-4bfd-8d7b-12d1f73318cf",
   "metadata": {},
   "outputs": [],
   "source": [
    "lines.head()"
   ]
  },
  {
   "cell_type": "code",
   "execution_count": null,
   "id": "8f09a437-575b-42b2-a49f-9323615b1fd4",
   "metadata": {},
   "outputs": [],
   "source": [
    "points.head()"
   ]
  },
  {
   "cell_type": "code",
   "execution_count": null,
   "id": "1bb790a4-0da3-4feb-908c-e32e7d96f67a",
   "metadata": {},
   "outputs": [],
   "source": [
    "lines.info()"
   ]
  },
  {
   "cell_type": "markdown",
   "id": "55c25e5a-3e7f-4d06-9b2c-a52df7c4306a",
   "metadata": {},
   "source": [
    "## Some general statistics"
   ]
  },
  {
   "cell_type": "code",
   "execution_count": null,
   "id": "342bc5da-4459-44f0-a166-5063fa0dc230",
   "metadata": {},
   "outputs": [],
   "source": [
    "# Ascent in meters \n",
    "lines.groupby('track_name')['ascent'].sum().describe()"
   ]
  },
  {
   "cell_type": "code",
   "execution_count": null,
   "id": "e59ffbcb-940c-4843-83b2-b5008a62c2c9",
   "metadata": {},
   "outputs": [],
   "source": [
    "lines.groupby('track_name')['ascent'].sum()"
   ]
  },
  {
   "cell_type": "code",
   "execution_count": null,
   "id": "b29be2ec-9490-4ff7-9c66-05d1d66171f1",
   "metadata": {},
   "outputs": [],
   "source": [
    "# Distance in meters \n",
    "lines.groupby('track_name')['distance'].sum().describe()"
   ]
  },
  {
   "cell_type": "code",
   "execution_count": null,
   "id": "420e8146-7fb9-41b5-ad02-11fb97edfd49",
   "metadata": {},
   "outputs": [],
   "source": [
    "lines.groupby('track_name')['km_per_h'].describe()"
   ]
  },
  {
   "cell_type": "markdown",
   "id": "5a94a342-7b6c-4871-92b7-48f17e1f4a81",
   "metadata": {},
   "source": [
    "## Extract some usefull information about each run"
   ]
  },
  {
   "cell_type": "code",
   "execution_count": null,
   "id": "896bc878-d935-465e-a381-34d866ed0b5f",
   "metadata": {},
   "outputs": [],
   "source": [
    "runs = pd.DataFrame({\n",
    "              'distance': lines.groupby('track_name')['dist_delta'].sum(),\n",
    "              'ascent': lines.groupby('track_name')['ascent'].sum(),\n",
    "              'start_time': points.groupby('track_name')['time'].min(),\n",
    "              'end_time': points.groupby('track_name')['time'].max(),\n",
    "              'median_km_h' : lines.groupby('track_name')['km_per_h'].median(),\n",
    "              'max_km_h' : lines.groupby('track_name')['km_per_h'].max(),\n",
    "              })\n",
    "\n",
    "runs['total_duration'] = runs['end_time'] - runs['start_time']\n",
    "\n",
    "# Pauses (speed <1.5 km/h)\n",
    "runs['pause'] = lines[lines['km_per_h']<1.5].groupby('track_name')['time_delta'].sum()\n",
    "runs['pause'] = runs['pause'].fillna(pd.Timedelta(0))\n",
    "\n",
    "# Duration without pauses\n",
    "runs['duration'] = runs['total_duration'] - runs['pause']\n",
    "runs['minutes'] = runs.duration.dt.seconds / 60\n",
    "\n",
    "# Speed\n",
    "runs['m_per_s'] = runs['distance'] / runs.duration.dt.seconds \n",
    "runs['km_per_h'] = runs['m_per_s'] * 3.6\n",
    "runs['min_per_km'] = 60 / runs['km_per_h']\n",
    "\n",
    "# Distance in km\n",
    "runs['distance'] = runs['distance'] / 1000 \n",
    "\n",
    "runs"
   ]
  },
  {
   "cell_type": "code",
   "execution_count": null,
   "id": "9680eab6-2903-4665-b38d-537dd1101011",
   "metadata": {},
   "outputs": [],
   "source": [
    "# Add Geometry of the (complete) runs\n",
    "runs = gpd.GeoDataFrame(runs, geometry=lines.dissolve(by='track_name')['geometry'])"
   ]
  },
  {
   "cell_type": "code",
   "execution_count": null,
   "id": "f53bbc64-9a88-44c4-9f0d-908bd036cfee",
   "metadata": {},
   "outputs": [],
   "source": [
    "runs.describe()"
   ]
  },
  {
   "cell_type": "markdown",
   "id": "1a33e2f0-602b-4d73-93c1-0117bd65c7a2",
   "metadata": {},
   "source": [
    "## Some Queries"
   ]
  },
  {
   "cell_type": "markdown",
   "id": "c83b6ca5-5ceb-46fd-898c-153e9aae499d",
   "metadata": {},
   "source": [
    "The 5 longest runs"
   ]
  },
  {
   "cell_type": "code",
   "execution_count": null,
   "id": "556db253-0170-43d3-938c-ca4ab3f118a7",
   "metadata": {},
   "outputs": [],
   "source": [
    "runs.sort_values(by='distance', ascending=False).head(5)"
   ]
  },
  {
   "cell_type": "markdown",
   "id": "d8633c61-5724-43b2-a578-f88dce25f01c",
   "metadata": {},
   "source": [
    "The 5 fastest runs"
   ]
  },
  {
   "cell_type": "code",
   "execution_count": null,
   "id": "6e5ca82d-6fbb-4ec3-bd92-2d2304156c63",
   "metadata": {},
   "outputs": [],
   "source": [
    "runs.sort_values(by='km_per_h', ascending=False).head(5)"
   ]
  },
  {
   "cell_type": "markdown",
   "id": "56c0e6dc-4c7b-4c6f-bd5f-16e7719139b6",
   "metadata": {},
   "source": [
    "Fastest in the range from 8 to 12 km"
   ]
  },
  {
   "cell_type": "code",
   "execution_count": null,
   "id": "d528d74e-c5aa-402d-93f5-7752153fa6c7",
   "metadata": {},
   "outputs": [],
   "source": [
    "runs[(runs['distance']>=8) & (runs['distance']<=12)].sort_values(by='km_per_h', ascending=False).head(5)"
   ]
  },
  {
   "cell_type": "markdown",
   "id": "6c5cc4d2-6909-44dc-94f1-128f2701934e",
   "metadata": {},
   "source": [
    "## Reports per month and per year"
   ]
  },
  {
   "cell_type": "code",
   "execution_count": null,
   "id": "36436d9e-c3b4-486d-adf5-d79a03fb8b92",
   "metadata": {},
   "outputs": [],
   "source": [
    "per_year = pd.DataFrame({\n",
    "              'count': runs.groupby(runs.start_time.dt.year)['distance'].count(),\n",
    "              'total_distance': runs.groupby(runs.start_time.dt.year)['distance'].sum(),\n",
    "              'distance_median': runs.groupby(runs.start_time.dt.year)['distance'].median(),   \n",
    "              'distance_mean': runs.groupby(runs.start_time.dt.year)['distance'].mean(),  \n",
    "              'distance_max': runs.groupby(runs.start_time.dt.year)['distance'].max(),    \n",
    "              'total_ascent': runs.groupby(runs.start_time.dt.year)['ascent'].sum(),\n",
    "              'ascent_median': runs.groupby(runs.start_time.dt.year)['ascent'].sum(),\n",
    "              'ascent_max': runs.groupby(runs.start_time.dt.year)['ascent'].max(),\n",
    "              'median_km_h' : runs.groupby(runs.start_time.dt.year)['km_per_h'].median(),\n",
    "              'mean_km_h' : runs.groupby(runs.start_time.dt.year)['km_per_h'].mean(),\n",
    "              })\n",
    "\n",
    "per_year.index.name = 'year'\n",
    "\n",
    "per_year"
   ]
  },
  {
   "cell_type": "code",
   "execution_count": null,
   "id": "c2a3fb51-1107-461c-a980-836108fa1f76",
   "metadata": {},
   "outputs": [],
   "source": [
    "per_month = pd.DataFrame({\n",
    "              'count': runs.groupby([runs.start_time.dt.year, runs.start_time.dt.month])['distance'].count(),\n",
    "              'total_distance': runs.groupby([runs.start_time.dt.year, runs.start_time.dt.month])['distance'].sum(),\n",
    "              'distance_median': runs.groupby([runs.start_time.dt.year, runs.start_time.dt.month])['distance'].median(),   \n",
    "              'distance_mean': runs.groupby([runs.start_time.dt.year, runs.start_time.dt.month])['distance'].mean(),  \n",
    "              'distance_max': runs.groupby([runs.start_time.dt.year, runs.start_time.dt.month])['distance'].max(),    \n",
    "              'total_ascent': runs.groupby([runs.start_time.dt.year, runs.start_time.dt.month])['ascent'].sum(),\n",
    "              'ascent_median': runs.groupby([runs.start_time.dt.year, runs.start_time.dt.month])['ascent'].sum(),\n",
    "              'ascent_max': runs.groupby([runs.start_time.dt.year, runs.start_time.dt.month])['ascent'].max(),\n",
    "              'median_km_h' : runs.groupby([runs.start_time.dt.year, runs.start_time.dt.month])['km_per_h'].median(),\n",
    "              'mean_km_h' : runs.groupby([runs.start_time.dt.year, runs.start_time.dt.month])['km_per_h'].mean(),\n",
    "              })\n",
    "\n",
    "per_month.index.names = ['year', 'month']\n",
    "\n",
    "per_month"
   ]
  },
  {
   "cell_type": "markdown",
   "id": "00ad9598-fa92-4be0-99c7-751181e62ffc",
   "metadata": {},
   "source": [
    "### Alternative way \n",
    "... including all months with 0 runs and using a datetime index for each month. This is usefull for some plots."
   ]
  },
  {
   "cell_type": "code",
   "execution_count": null,
   "id": "60d9863c-d0e4-4871-b532-f400fee37520",
   "metadata": {},
   "outputs": [],
   "source": [
    "freq = runs.set_index('start_time').groupby(pd.Grouper(freq=\"M\"))"
   ]
  },
  {
   "cell_type": "code",
   "execution_count": null,
   "id": "d2df98bb-de5d-4cc2-9d7b-87fda81ff2b9",
   "metadata": {},
   "outputs": [],
   "source": [
    "freq_month = pd.DataFrame({\n",
    "              'count': freq['distance'].count(),\n",
    "              'total_distance': freq['distance'].sum(),\n",
    "              'distance_median': freq['distance'].median(),   \n",
    "              'distance_mean': freq['distance'].mean(),  \n",
    "              'distance_max': freq['distance'].max(),    \n",
    "              'total_ascent': freq['ascent'].sum(),\n",
    "              'ascent_median': freq['ascent'].sum(),\n",
    "              'ascent_max': freq['ascent'].max(),\n",
    "              'median_km_h' : freq['km_per_h'].median(),\n",
    "              'mean_km_h' : freq['km_per_h'].mean(),\n",
    "              })\n",
    "\n",
    "freq_month.index.name = 'month_dt'\n",
    "freq_month['year'] = freq_month.index.year\n",
    "freq_month['month'] = freq_month.index.month\n",
    "\n",
    "freq_month"
   ]
  },
  {
   "cell_type": "code",
   "execution_count": null,
   "id": "b643ac67-06cf-45b5-b3b8-343e79641a4e",
   "metadata": {},
   "outputs": [],
   "source": [
    "freq_month['count'].plot(kind='bar')"
   ]
  },
  {
   "cell_type": "markdown",
   "id": "7aba8edf-8edc-44a2-8375-c39a32bd39cc",
   "metadata": {},
   "source": [
    "## Plots with Seaborn"
   ]
  },
  {
   "cell_type": "code",
   "execution_count": null,
   "id": "6fbc8b19-9e43-4507-b8c2-5d2923cf3fbe",
   "metadata": {},
   "outputs": [],
   "source": [
    "import matplotlib.pyplot as plt\n",
    "import seaborn as sns"
   ]
  },
  {
   "cell_type": "markdown",
   "id": "66bf7978-47fa-4818-a0ef-84f3861a0bf9",
   "metadata": {},
   "source": [
    "### Plots of all Trackpoints or line segments\n",
    "Note: checking points with very high speed on the maps, I found out these are a result of inaccurate GPS data, notably below bridges and after waiting (!) at a traffic light. Runkeeper seems to smooth out these outliers in their statistics."
   ]
  },
  {
   "cell_type": "code",
   "execution_count": null,
   "id": "99fde015-949f-4c16-bcc0-fe2ee98659b2",
   "metadata": {},
   "outputs": [],
   "source": [
    "sns.relplot(x=\"slope\", y=\"km_per_h\", data=lines[lines['km_per_h']<30], hue=\"track_name\");"
   ]
  },
  {
   "cell_type": "code",
   "execution_count": null,
   "id": "610e8238-839f-4576-b5b6-54b679a5c0a0",
   "metadata": {},
   "outputs": [],
   "source": [
    "sns.relplot(x=\"time_passed\", y=\"km_per_h\", data=lines, kind=\"line\", hue=\"track_name\");"
   ]
  },
  {
   "cell_type": "code",
   "execution_count": null,
   "id": "55aefe80-c0d7-454f-8777-ae56b32c85d3",
   "metadata": {},
   "outputs": [],
   "source": [
    "# Filter out the outliers\n",
    "sns.relplot(x=\"time_passed\", y=\"km_per_h\", data=lines[lines['km_per_h']<30], kind=\"line\", hue=\"track_name\");"
   ]
  },
  {
   "cell_type": "markdown",
   "id": "b7193956-1be8-449b-bb6e-4bf3897ccaf1",
   "metadata": {},
   "source": [
    "Profile:"
   ]
  },
  {
   "cell_type": "code",
   "execution_count": null,
   "id": "3dcc0ee9-646b-4b69-8357-fab18725c4a4",
   "metadata": {},
   "outputs": [],
   "source": [
    "sns.relplot(x=\"distance\", y=\"ele\", data=lines, kind=\"line\", hue=\"track_name\");"
   ]
  },
  {
   "cell_type": "code",
   "execution_count": null,
   "id": "a794ffc1-9e53-4854-a4dd-ba817ea28cf6",
   "metadata": {},
   "outputs": [],
   "source": [
    "sns.relplot(x=\"distance\", y=\"ele_normalized\", data=lines, kind=\"line\", hue=\"track_name\");"
   ]
  },
  {
   "cell_type": "code",
   "execution_count": null,
   "id": "2b7fd329-1391-4ff3-bd18-f702ae42e893",
   "metadata": {},
   "outputs": [],
   "source": [
    "sns.relplot(x=\"distance\", y=\"ele_delta\", data=lines, kind=\"line\", hue=\"track_name\");"
   ]
  },
  {
   "cell_type": "markdown",
   "id": "21a735ee-47b8-4deb-8694-7d414521ccc4",
   "metadata": {},
   "source": [
    "### Heatmap of Speed"
   ]
  },
  {
   "cell_type": "code",
   "execution_count": null,
   "id": "0ea2762f-6317-4381-8fd1-9dbfc0c2b0f7",
   "metadata": {},
   "outputs": [],
   "source": [
    "heatmapdata1 = lines.reset_index()\n",
    "heatmapdata1 = heatmapdata1.pivot(index='track_name', columns='segment_id', values='km_per_h')\n",
    "heatmapdata1.fillna(value=0, inplace=True)"
   ]
  },
  {
   "cell_type": "code",
   "execution_count": null,
   "id": "765b9cca-d879-4807-8414-283def663b94",
   "metadata": {},
   "outputs": [],
   "source": [
    "heatmapdata1.head()"
   ]
  },
  {
   "cell_type": "code",
   "execution_count": null,
   "id": "3424a404-585b-4505-af2c-05d4e1392f6a",
   "metadata": {},
   "outputs": [],
   "source": [
    "# Set vmax to filter out unrealistic values\n",
    "sns.heatmap(heatmapdata1, vmin=0, vmax=20, xticklabels=False)"
   ]
  },
  {
   "cell_type": "markdown",
   "id": "e50113e0-1589-4d77-9eb4-afb5705e82fa",
   "metadata": {},
   "source": [
    "### Heatmap of ele_delta"
   ]
  },
  {
   "cell_type": "code",
   "execution_count": null,
   "id": "3a147027-96e6-42d2-90d1-89545d3ff2fe",
   "metadata": {},
   "outputs": [],
   "source": [
    "heatmapdata2 = lines.reset_index()\n",
    "heatmapdata2 = heatmapdata2.pivot(index='track_name', columns='segment_id', values='ele_delta')\n",
    "heatmapdata2.fillna(value=0, inplace=True)"
   ]
  },
  {
   "cell_type": "code",
   "execution_count": null,
   "id": "9b172a70-e95a-40c7-aec8-1b9f98f87618",
   "metadata": {},
   "outputs": [],
   "source": [
    "sns.heatmap(heatmapdata2, xticklabels=False, center=0)"
   ]
  },
  {
   "cell_type": "code",
   "execution_count": null,
   "id": "97c65142-4719-4946-95bc-68e7d0804e85",
   "metadata": {},
   "outputs": [],
   "source": [
    "# Set min and max values\n",
    "sns.heatmap(heatmapdata2, xticklabels=False, center=0, vmin=-2, vmax=2)"
   ]
  },
  {
   "cell_type": "markdown",
   "id": "6ff8fe98-9fdb-4f2d-8fe5-1065c98ab8a5",
   "metadata": {},
   "source": [
    "### Heatmap of ele_normalized"
   ]
  },
  {
   "cell_type": "code",
   "execution_count": null,
   "id": "47cac2b8-30c4-4daa-92ee-74b48caeead7",
   "metadata": {},
   "outputs": [],
   "source": [
    "heatmapdata3 = lines.reset_index()\n",
    "heatmapdata3 = heatmapdata3.pivot(index='track_name', columns='segment_id', values='ele_normalized')\n",
    "heatmapdata3.fillna(value=0, inplace=True)"
   ]
  },
  {
   "cell_type": "code",
   "execution_count": null,
   "id": "d2d3eb4b-dfb7-43d7-be9a-587d1f8f96ba",
   "metadata": {},
   "outputs": [],
   "source": [
    "sns.heatmap(heatmapdata3, xticklabels=False, center=0)"
   ]
  },
  {
   "cell_type": "markdown",
   "id": "5fdbe849-a80d-4944-9518-a834c3c8010f",
   "metadata": {},
   "source": [
    "### Plots of the runs"
   ]
  },
  {
   "cell_type": "code",
   "execution_count": null,
   "id": "73c4a361-6f50-4fe2-a0d8-f5858233e485",
   "metadata": {},
   "outputs": [],
   "source": [
    "sns.displot(x=\"distance\", data=runs, binwidth=1);"
   ]
  },
  {
   "cell_type": "code",
   "execution_count": null,
   "id": "b79df50e-a992-471d-a2e1-e972e480af87",
   "metadata": {},
   "outputs": [],
   "source": [
    "sns.displot(x=\"km_per_h\", data=runs, bins=10);"
   ]
  },
  {
   "cell_type": "code",
   "execution_count": null,
   "id": "9ef4ad8a-5561-4ff7-8373-dd223bb1545d",
   "metadata": {},
   "outputs": [],
   "source": [
    "sns.displot(x=\"ascent\", data=runs, kind=\"kde\");"
   ]
  },
  {
   "cell_type": "code",
   "execution_count": null,
   "id": "81abf33d-6218-4a88-aa74-21560938225e",
   "metadata": {},
   "outputs": [],
   "source": [
    "sns.relplot(x=\"distance\", y=\"km_per_h\", data=runs, hue=\"track_name\");"
   ]
  },
  {
   "cell_type": "code",
   "execution_count": null,
   "id": "76e9639c-c9b4-4915-b525-63b5cf957bd3",
   "metadata": {},
   "outputs": [],
   "source": [
    "sns.relplot(x=\"start_time\", y=\"km_per_h\", data=runs, size=\"distance\");"
   ]
  },
  {
   "cell_type": "code",
   "execution_count": null,
   "id": "a63dda34-c1a0-4a44-bad4-c7e929af2fae",
   "metadata": {},
   "outputs": [],
   "source": [
    "import matplotlib.dates as mdates\n",
    "g = sns.relplot(x=\"start_time\", y=\"km_per_h\", data=runs, size=\"distance\")\n",
    "g.ax.xaxis.set_major_formatter(\n",
    "    mdates.ConciseDateFormatter(g.ax.xaxis.get_major_locator()))"
   ]
  },
  {
   "cell_type": "code",
   "execution_count": null,
   "id": "bb35f6b3-5c76-443d-a0a5-80bc42c4f65a",
   "metadata": {},
   "outputs": [],
   "source": [
    "g = sns.relplot(x=\"start_time\", y=\"km_per_h\", data=runs, size=\"distance\", sizes=(2,300))\n",
    "g.ax.set_xlabel(\"date\")\n",
    "g.ax.set_ylabel(\"km/h\")\n",
    "g.ax.xaxis.set_major_formatter(\n",
    "    mdates.ConciseDateFormatter(g.ax.xaxis.get_major_locator()))"
   ]
  },
  {
   "cell_type": "code",
   "execution_count": null,
   "id": "16b30a1c-8c58-41bb-b4f9-95a72e7b66eb",
   "metadata": {},
   "outputs": [],
   "source": [
    "g = sns.relplot(x=\"start_time\", y=\"distance\", data=runs, size=\"km_per_h\")\n",
    "g.ax.set_xlabel(\"date\")\n",
    "g.ax.set_ylabel(\"distance\")\n",
    "g.ax.xaxis.set_major_formatter(\n",
    "    mdates.ConciseDateFormatter(g.ax.xaxis.get_major_locator()))"
   ]
  },
  {
   "cell_type": "code",
   "execution_count": null,
   "id": "e96e54ec-1e3d-4a85-909b-2a3ba53f8a20",
   "metadata": {},
   "outputs": [],
   "source": [
    "g = sns.relplot(x=\"start_time\", y=\"distance\", data=runs, kind=\"line\")\n",
    "g.ax.xaxis.set_major_formatter(\n",
    "    mdates.ConciseDateFormatter(g.ax.xaxis.get_major_locator()))"
   ]
  },
  {
   "cell_type": "code",
   "execution_count": null,
   "id": "68c6189b-fe15-4d53-9749-2739d944c92f",
   "metadata": {},
   "outputs": [],
   "source": [
    "sns.jointplot(x=\"distance\", y=\"minutes\", data=runs, kind=\"reg\");"
   ]
  },
  {
   "cell_type": "markdown",
   "id": "1bd3a55c-4867-4901-90b1-720005c69389",
   "metadata": {},
   "source": [
    "### Plots of months"
   ]
  },
  {
   "cell_type": "code",
   "execution_count": null,
   "id": "d58597c2-b20a-4101-a8a4-170b3fa101dc",
   "metadata": {},
   "outputs": [],
   "source": [
    "per_month"
   ]
  },
  {
   "cell_type": "code",
   "execution_count": null,
   "id": "89eafe11-1833-47eb-a535-839ba6ac43c3",
   "metadata": {},
   "outputs": [],
   "source": [
    "# For nicer plots, replace year month with datetime index\n",
    "per_month_dt = per_month.reset_index()\n",
    "per_month_dt['month'] =  pd.to_datetime(per_month_dt['year'].astype('str') + '-' + per_month_dt['month'].astype('str') + '-1')\n",
    "per_month_dt.drop(columns='year', inplace=True)\n",
    "per_month_dt.set_index('month', inplace=True)"
   ]
  },
  {
   "cell_type": "code",
   "execution_count": null,
   "id": "7ce5bc7f-616e-448b-a326-965106168eea",
   "metadata": {},
   "outputs": [],
   "source": [
    "per_month_dt"
   ]
  },
  {
   "cell_type": "code",
   "execution_count": null,
   "id": "211aacb1-6ffa-434e-89c6-29213308dc55",
   "metadata": {},
   "outputs": [],
   "source": [
    "g = sns.relplot(x=\"month\", y=\"total_distance\", data=per_month_dt)\n",
    "g.ax.xaxis.set_major_formatter(\n",
    "    mdates.ConciseDateFormatter(g.ax.xaxis.get_major_locator()))"
   ]
  },
  {
   "cell_type": "code",
   "execution_count": null,
   "id": "701e4416-7057-48e3-8a5f-c9f7c2020a71",
   "metadata": {},
   "outputs": [],
   "source": [
    "g = sns.relplot(x=\"month\", y=\"median_km_h\", data=per_month_dt)\n",
    "g.ax.xaxis.set_major_formatter(\n",
    "    mdates.ConciseDateFormatter(g.ax.xaxis.get_major_locator()))"
   ]
  },
  {
   "cell_type": "markdown",
   "id": "94667f56-1a37-4c97-9cef-ef9f6834786f",
   "metadata": {},
   "source": [
    "## Save Geodataframes\n",
    "- GeoJSON does support datetime, but not timedelta. \n",
    "- Shapefile does not support datetime/timedelta. \n",
    "\n",
    "Good reason to save as GeoJSON. We could either drop those timedelta columns ..."
   ]
  },
  {
   "cell_type": "code",
   "execution_count": null,
   "id": "9206d858-094e-479a-ad59-2db6750ef0e3",
   "metadata": {},
   "outputs": [],
   "source": [
    "# data_to_save = lines.drop(columns=['time_delta', 'time_passed'])"
   ]
  },
  {
   "cell_type": "markdown",
   "id": "7eace24d-5519-44a8-b5b7-db1af9ac6c87",
   "metadata": {},
   "source": [
    "... or better turn the timedelta to string:"
   ]
  },
  {
   "cell_type": "code",
   "execution_count": null,
   "id": "2d15161b-f7c4-4502-8079-a5320561d441",
   "metadata": {},
   "outputs": [],
   "source": [
    "# Save lines\n",
    "\n",
    "# use copy, otherwise also lines will be changed\n",
    "# and I might want to use the timedelta below\n",
    "data_to_save = lines.copy()   \n",
    "data_to_save['time_delta'] = data_to_save['time_delta'].astype(str)\n",
    "data_to_save['time_passed'] = data_to_save['time_passed'].astype(str)\n",
    "\n",
    "data_to_save.to_file(folder + \"tracks-as-lines.geojson\", driver=\"GeoJSON\")"
   ]
  },
  {
   "cell_type": "code",
   "execution_count": null,
   "id": "8ecbc7a5-8a3b-4063-a817-9dd709a4f3a7",
   "metadata": {},
   "outputs": [],
   "source": [
    "# Save points\n",
    "data_to_save = points.copy() \n",
    "data_to_save['time_delta'] = data_to_save['time_delta'].astype(str)\n",
    "data_to_save['time_passed'] = data_to_save['time_passed'].astype(str)\n",
    "\n",
    "data_to_save.to_file(folder + \"tracks-as-points.geojson\", driver=\"GeoJSON\")"
   ]
  },
  {
   "cell_type": "code",
   "execution_count": null,
   "id": "5d5e2d72-aad9-4f80-b701-f152e1ce3dad",
   "metadata": {},
   "outputs": [],
   "source": [
    "#Save runs\n",
    "runs.to_csv(folder + \"runs.csv\")"
   ]
  },
  {
   "cell_type": "markdown",
   "id": "5b0c8f01-8712-4978-9fe0-03415164b502",
   "metadata": {},
   "source": [
    "## Folium"
   ]
  },
  {
   "cell_type": "code",
   "execution_count": null,
   "id": "633a7031-5aa7-47da-baec-3686f1e5d952",
   "metadata": {},
   "outputs": [],
   "source": [
    "import folium"
   ]
  },
  {
   "cell_type": "markdown",
   "id": "fe6da988-6889-42ad-9212-c669bd60d592",
   "metadata": {},
   "source": [
    "For meaningfull tooltips  I have to plot the actual line segments instead of the complete runs."
   ]
  },
  {
   "cell_type": "code",
   "execution_count": null,
   "id": "ff5aa2a7-ce18-4586-9ec9-98b1910be2ab",
   "metadata": {},
   "outputs": [],
   "source": [
    "lines_condensed = lines[['ele_delta', 'dist_delta', 'geometry', 'distance', 'km_per_h', 'min_per_km', 'minutes', 'slope', 'time_delta_s']].dropna().copy()\n",
    "\n",
    "lines_condensed['date'] = lines['time'].dt.strftime(\"%d %B %Y\")\n",
    "lines_condensed['year'] = lines['time'].dt.year\n",
    "lines_condensed['month'] = lines['time'].dt.month\n",
    "\n",
    "lines_condensed.reset_index(level=1, inplace=True)\n",
    "lines_condensed['total_distance'] = runs['distance']\n",
    "lines_condensed['total_minutes'] = runs['minutes']\n",
    "\n",
    "lines_condensed['distance'] = lines_condensed['distance']/1000\n",
    "lines_condensed['distance'] = lines_condensed['distance'].round(2)\n",
    "lines_condensed['total_distance'] = lines_condensed['total_distance'].round(2)\n",
    "lines_condensed['total_minutes'] = lines_condensed['total_minutes'].round(2)\n",
    "lines_condensed['minutes'] = lines_condensed['minutes'].round(2)\n",
    "lines_condensed['min_per_km'] = lines_condensed['min_per_km'].round(2)\n",
    "lines_condensed['km_per_h'] = lines_condensed['km_per_h'].round(2)\n",
    "lines_condensed['slope'] = lines_condensed['slope'].round(3)"
   ]
  },
  {
   "cell_type": "code",
   "execution_count": null,
   "id": "f04bdbc4-1596-424b-a153-9595afdd858e",
   "metadata": {},
   "outputs": [],
   "source": [
    "# style function\n",
    "def style(feature):\n",
    "        return {\n",
    "            # 'fillColor': feature['properties']['color'],\n",
    "            'color': feature['properties']['color'],\n",
    "            'weight': 3,\n",
    "        }\n",
    "\n",
    "\n",
    "for x in lines_condensed.index:\n",
    "    color = np.random.randint(16, 256, size=3)\n",
    "    color = [str(hex(i))[2:] for i in color]\n",
    "    color = '#'+''.join(color).upper()\n",
    "    lines_condensed.at[x, 'color'] = color\n",
    "\n",
    "lines_condensed.head()"
   ]
  },
  {
   "cell_type": "markdown",
   "id": "83cf7d1a-5654-4b85-a400-011827dbd7ac",
   "metadata": {},
   "source": [
    "Use start point of the last (youngest) run as map location"
   ]
  },
  {
   "cell_type": "code",
   "execution_count": null,
   "id": "039bb344-eb30-4178-b2f9-fe246517e2bd",
   "metadata": {},
   "outputs": [],
   "source": [
    "location_x = lines_condensed.iloc[-1]['geometry'].coords.xy[0][0]\n",
    "location_y = lines_condensed.iloc[-1]['geometry'].coords.xy[1][0]"
   ]
  },
  {
   "cell_type": "code",
   "execution_count": null,
   "id": "636efd22-10f1-43a7-a526-56ae329d8248",
   "metadata": {},
   "outputs": [],
   "source": [
    "# Or the fist one (oldest) \n",
    "\n",
    "# location_x = lines_condensed.iloc[1]['geometry'].coords.xy[0][0]\n",
    "# location_y = lines_condensed.iloc[1]['geometry'].coords.xy[1][0]"
   ]
  },
  {
   "cell_type": "code",
   "execution_count": null,
   "id": "394f2a1c-3fe4-4221-8274-6364e8bb5eed",
   "metadata": {},
   "outputs": [],
   "source": [
    "(location_x, location_y)"
   ]
  },
  {
   "cell_type": "markdown",
   "id": "688b7e6c-8106-4c5e-b3b7-8e75e417eb87",
   "metadata": {},
   "source": [
    "Startpoints"
   ]
  },
  {
   "cell_type": "code",
   "execution_count": null,
   "id": "2d0a725d-e7f9-4c31-9d18-6e29bd8e2b5c",
   "metadata": {},
   "outputs": [],
   "source": [
    "startpoints = points.groupby('track_name').first()[['geometry']] \n",
    "\n",
    "startpoints"
   ]
  },
  {
   "cell_type": "markdown",
   "id": "f43aa77e-ef51-4c5a-a87c-cfffd55bff67",
   "metadata": {},
   "source": [
    "### Plot the map "
   ]
  },
  {
   "cell_type": "code",
   "execution_count": null,
   "id": "5ad73bf2-dac0-46e3-9117-30e65465f027",
   "metadata": {},
   "outputs": [],
   "source": [
    "grouped = lines_condensed.groupby('year')"
   ]
  },
  {
   "cell_type": "code",
   "execution_count": null,
   "id": "0b400e78-dc11-4a2f-b0ba-93b64f57307b",
   "metadata": {},
   "outputs": [],
   "source": [
    "m4 = folium.Map(location=[location_y, location_x], zoom_start=13, tiles='cartodbpositron')\n",
    "folium.TileLayer('Stamen Terrain').add_to(m4)\n",
    "\n",
    "# Iterate through the grouped dataframe\n",
    "# Populate a list of feature groups\n",
    "# Add the tracks to the feature groups\n",
    "# And add the feature groups to the map\n",
    "\n",
    "f_groups = []\n",
    "\n",
    "for group_name, group_data in grouped:\n",
    "    f_groups.append(folium.FeatureGroup(group_name))\n",
    "    track_geojson = folium.GeoJson(data=group_data, style_function=style).add_to(f_groups[-1])\n",
    "    track_geojson.add_child(\n",
    "          folium.features.GeoJsonTooltip(fields=['date', 'distance', 'total_distance', 'minutes', 'total_minutes', 'min_per_km', 'km_per_h' ], \n",
    "                                   aliases=['Date', 'Kilometers', 'Total km', 'Minutes', 'Total min', 'min/km', 'km/h'])\n",
    "        )\n",
    "    f_groups[-1].add_to(m4)\n",
    "\n",
    "\n",
    "# Add one layer with clustered start points \n",
    "\"\"\"\n",
    "from folium.plugins import MarkerCluster\n",
    "\n",
    "clusterlayer=folium.FeatureGroup(\"All start points\")\n",
    "marker_cluster = MarkerCluster().add_to(clusterlayer)\n",
    "\n",
    "for index, row in startpoints.iterrows():\n",
    "    folium.CircleMarker(\n",
    "        location = [row['geometry'].y, row['geometry'].x],\n",
    "        color = \"blue\", \n",
    "        fill_color = \"blue\",\n",
    "        radius = 1,\n",
    "    ).add_to(marker_cluster)\n",
    "\n",
    "clusterlayer.add_to(m4)\n",
    "\"\"\"\n",
    "\n",
    "\n",
    "\n",
    "folium.LayerControl().add_to(m4)\n",
    "\n",
    "m4"
   ]
  },
  {
   "cell_type": "markdown",
   "id": "e8c00d58-d38c-4b9f-a7ea-05757e4c7d12",
   "metadata": {},
   "source": [
    "### Folium Heatmap"
   ]
  },
  {
   "cell_type": "code",
   "execution_count": null,
   "id": "348b802c-3411-4e29-b059-a9dbc9d55be1",
   "metadata": {},
   "outputs": [],
   "source": [
    "# Create a list of the locations from points\n",
    "locations = list(zip(points['geometry'].y, points['geometry'].x))\n",
    "\n",
    "hm = folium.Map(tiles='cartodbdark_matter')\n",
    "\n",
    "# Add heatmap to map instance\n",
    "# Available parameters: HeatMap(data, name=None, min_opacity=0.5, max_zoom=18, max_val=1.0, radius=25, blur=15, gradient=None, overlay=True, control=True, show=True)\n",
    "folium.plugins.HeatMap(locations).add_to(hm)\n",
    "\n",
    "hm"
   ]
  },
  {
   "cell_type": "code",
   "execution_count": null,
   "id": "7c4ddac6-36c3-4a11-a8ca-e83ab17d5616",
   "metadata": {},
   "outputs": [],
   "source": []
  }
 ],
 "metadata": {
  "kernelspec": {
   "display_name": "forge",
   "language": "python",
   "name": "forge"
  },
  "language_info": {
   "codemirror_mode": {
    "name": "ipython",
    "version": 3
   },
   "file_extension": ".py",
   "mimetype": "text/x-python",
   "name": "python",
   "nbconvert_exporter": "python",
   "pygments_lexer": "ipython3",
   "version": "3.10.4"
  }
 },
 "nbformat": 4,
 "nbformat_minor": 5
}
