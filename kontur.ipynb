{
 "cells": [
  {
   "cell_type": "markdown",
   "metadata": {},
   "source": [
    "# How to load the Kontur population dataset in QGIS on an old Laptop\n",
    "The popular [Kontur Polulation Dataset](https://www.kontur.io/portfolio/population-dataset/) provides detailed (400 m resolution) population data for the whole World in a hexagonal grid. However, the dataset is huge. If I try to open the geopackage with QGIS on my old laptop, it looks like QGIS is slowly adding puzzle parts to a World map, taking hours before finally crashing.\n",
    "\n",
    "It took me a while, but I found a solution to open a subset of the data covering my area of intesest. The key is the underlying [H3 system](https://h3geo.org/), a hexagonal hierarchical geospatial indexing system that is used by the data set. It allows us to select data of a certain region with simple SQL, without any (slow and resource intensive) spatial queries.\n",
    "\n",
    "![Screenshot](kontur.png)\n",
    "\n",
    "This notebook helps to formulate the SQL query that can be used in the QGIS database manager. It requires [H3-Pandas](https://github.com/DahnJ/H3-Pandas), a module that integrates H3 into Pandas and Geopandas (install with pip or conda)."
   ]
  },
  {
   "cell_type": "code",
   "execution_count": 4,
   "metadata": {},
   "outputs": [],
   "source": [
    "import pandas as pd\n",
    "import geopandas as gpd\n",
    "import h3pandas"
   ]
  },
  {
   "cell_type": "markdown",
   "metadata": {},
   "source": [
    "As a start, I use a point in the center of my area of interest."
   ]
  },
  {
   "cell_type": "code",
   "execution_count": 5,
   "metadata": {},
   "outputs": [
    {
     "data": {
      "text/html": [
       "<div>\n",
       "<style scoped>\n",
       "    .dataframe tbody tr th:only-of-type {\n",
       "        vertical-align: middle;\n",
       "    }\n",
       "\n",
       "    .dataframe tbody tr th {\n",
       "        vertical-align: top;\n",
       "    }\n",
       "\n",
       "    .dataframe thead th {\n",
       "        text-align: right;\n",
       "    }\n",
       "</style>\n",
       "<table border=\"1\" class=\"dataframe\">\n",
       "  <thead>\n",
       "    <tr style=\"text-align: right;\">\n",
       "      <th></th>\n",
       "      <th>name</th>\n",
       "      <th>geometry</th>\n",
       "    </tr>\n",
       "  </thead>\n",
       "  <tbody>\n",
       "    <tr>\n",
       "      <th>0</th>\n",
       "      <td>AOI</td>\n",
       "      <td>POINT (13.40449 52.50021)</td>\n",
       "    </tr>\n",
       "  </tbody>\n",
       "</table>\n",
       "</div>"
      ],
      "text/plain": [
       "  name                   geometry\n",
       "0  AOI  POINT (13.40449 52.50021)"
      ]
     },
     "execution_count": 5,
     "metadata": {},
     "output_type": "execute_result"
    }
   ],
   "source": [
    "from shapely.geometry import Point\n",
    "\n",
    "gdf = gpd.GeoDataFrame({'name':['AOI'], \n",
    "                        'geometry':[Point(13.40449, 52.50021)]}, \n",
    "                        crs=\"EPSG:4326\")\n",
    "\n",
    "gdf"
   ]
  },
  {
   "cell_type": "markdown",
   "metadata": {},
   "source": [
    "H3 systematically devides the World into a hierarchical system of hexagon grids of different resolutions and every hexagon gets an ID (an 64 bit integer usually represented in hexadecimal notation as string). Resolution 0 has an edge length of about 1280 km, resolution 8 (used by Kontur) of about 0.5 km (and the max resolution of 15 a lenght of 0.6 m).\n",
    "[To get to the next higher resolution](https://h3geo.org/docs/highlights/indexing), 7 smaller hexagons are fitted as good as possible into every hexagon. \n",
    "\n",
    "The conversion between geographic location and cell ID is done with a fast hashing algorithm. We can use the [H3 library](https://uber.github.io/h3-py/intro.html) or [H3-Pandas](https://github.com/DahnJ/H3-Pandas) to get IDs for latitude/longitude values or to get the children/parents of a hexagon in the grids of higher/lower resolution. (Note: this can also be used to [aggregate data](https://h3-pandas.readthedocs.io/en/latest/notebook/00-intro.html) to a coarser resolution.) Even better: We can even \n",
    "get the relationship of children / parents by looking at the IDs, great for a simple SQL query.\n",
    "\n",
    "Let's get the H3 cell of our point in resolution 0:\n"
   ]
  },
  {
   "cell_type": "code",
   "execution_count": 6,
   "metadata": {},
   "outputs": [
    {
     "data": {
      "text/html": [
       "<div>\n",
       "<style scoped>\n",
       "    .dataframe tbody tr th:only-of-type {\n",
       "        vertical-align: middle;\n",
       "    }\n",
       "\n",
       "    .dataframe tbody tr th {\n",
       "        vertical-align: top;\n",
       "    }\n",
       "\n",
       "    .dataframe thead th {\n",
       "        text-align: right;\n",
       "    }\n",
       "</style>\n",
       "<table border=\"1\" class=\"dataframe\">\n",
       "  <thead>\n",
       "    <tr style=\"text-align: right;\">\n",
       "      <th></th>\n",
       "      <th>name</th>\n",
       "      <th>geometry</th>\n",
       "    </tr>\n",
       "    <tr>\n",
       "      <th>h3_00</th>\n",
       "      <th></th>\n",
       "      <th></th>\n",
       "    </tr>\n",
       "  </thead>\n",
       "  <tbody>\n",
       "    <tr>\n",
       "      <th>801ffffffffffff</th>\n",
       "      <td>AOI</td>\n",
       "      <td>POINT (13.40449 52.50021)</td>\n",
       "    </tr>\n",
       "  </tbody>\n",
       "</table>\n",
       "</div>"
      ],
      "text/plain": [
       "                name                   geometry\n",
       "h3_00                                          \n",
       "801ffffffffffff  AOI  POINT (13.40449 52.50021)"
      ]
     },
     "execution_count": 6,
     "metadata": {},
     "output_type": "execute_result"
    }
   ],
   "source": [
    "gdf.h3.geo_to_h3(0)"
   ]
  },
  {
   "cell_type": "markdown",
   "metadata": {},
   "source": [
    "Note that we get the H3 cell as index of the data frame. \n",
    "\n",
    "We can do the same for different resolutions, save the hexagons of these cells to a file and open it in QGIS to decide which resolution gives the best coverage for our area of interest."
   ]
  },
  {
   "cell_type": "code",
   "execution_count": 8,
   "metadata": {},
   "outputs": [
    {
     "data": {
      "text/html": [
       "<div>\n",
       "<style scoped>\n",
       "    .dataframe tbody tr th:only-of-type {\n",
       "        vertical-align: middle;\n",
       "    }\n",
       "\n",
       "    .dataframe tbody tr th {\n",
       "        vertical-align: top;\n",
       "    }\n",
       "\n",
       "    .dataframe thead th {\n",
       "        text-align: right;\n",
       "    }\n",
       "</style>\n",
       "<table border=\"1\" class=\"dataframe\">\n",
       "  <thead>\n",
       "    <tr style=\"text-align: right;\">\n",
       "      <th></th>\n",
       "      <th>resolution</th>\n",
       "      <th>geometry</th>\n",
       "    </tr>\n",
       "    <tr>\n",
       "      <th>h3</th>\n",
       "      <th></th>\n",
       "      <th></th>\n",
       "    </tr>\n",
       "  </thead>\n",
       "  <tbody>\n",
       "    <tr>\n",
       "      <th>801ffffffffffff</th>\n",
       "      <td>0</td>\n",
       "      <td>POLYGON ((5.52365 55.70677, 2.02657 45.18425, ...</td>\n",
       "    </tr>\n",
       "    <tr>\n",
       "      <th>811f3ffffffffff</th>\n",
       "      <td>1</td>\n",
       "      <td>POLYGON ((5.52365 55.70677, 6.25969 51.96477, ...</td>\n",
       "    </tr>\n",
       "    <tr>\n",
       "      <th>821f1ffffffffff</th>\n",
       "      <td>2</td>\n",
       "      <td>POLYGON ((11.24517 53.03204, 10.54962 51.56399...</td>\n",
       "    </tr>\n",
       "    <tr>\n",
       "      <th>831f18fffffffff</th>\n",
       "      <td>3</td>\n",
       "      <td>POLYGON ((12.19189 52.26095, 12.24402 51.69695...</td>\n",
       "    </tr>\n",
       "    <tr>\n",
       "      <th>841f1d5ffffffff</th>\n",
       "      <td>4</td>\n",
       "      <td>POLYGON ((13.13764 52.80725, 13.02989 52.59974...</td>\n",
       "    </tr>\n",
       "    <tr>\n",
       "      <th>851f18b3fffffff</th>\n",
       "      <td>5</td>\n",
       "      <td>POLYGON ((13.29015 52.45516, 13.29638 52.37491...</td>\n",
       "    </tr>\n",
       "    <tr>\n",
       "      <th>861f18b27ffffff</th>\n",
       "      <td>6</td>\n",
       "      <td>POLYGON ((13.35819 52.49388, 13.34272 52.46416...</td>\n",
       "    </tr>\n",
       "    <tr>\n",
       "      <th>871f18b25ffffff</th>\n",
       "      <td>7</td>\n",
       "      <td>POLYGON ((13.39356 52.49604, 13.39443 52.48459...</td>\n",
       "    </tr>\n",
       "    <tr>\n",
       "      <th>881f18b259fffff</th>\n",
       "      <td>8</td>\n",
       "      <td>POLYGON ((13.40329 52.50157, 13.40107 52.49732...</td>\n",
       "    </tr>\n",
       "  </tbody>\n",
       "</table>\n",
       "</div>"
      ],
      "text/plain": [
       "                 resolution                                           geometry\n",
       "h3                                                                            \n",
       "801ffffffffffff           0  POLYGON ((5.52365 55.70677, 2.02657 45.18425, ...\n",
       "811f3ffffffffff           1  POLYGON ((5.52365 55.70677, 6.25969 51.96477, ...\n",
       "821f1ffffffffff           2  POLYGON ((11.24517 53.03204, 10.54962 51.56399...\n",
       "831f18fffffffff           3  POLYGON ((12.19189 52.26095, 12.24402 51.69695...\n",
       "841f1d5ffffffff           4  POLYGON ((13.13764 52.80725, 13.02989 52.59974...\n",
       "851f18b3fffffff           5  POLYGON ((13.29015 52.45516, 13.29638 52.37491...\n",
       "861f18b27ffffff           6  POLYGON ((13.35819 52.49388, 13.34272 52.46416...\n",
       "871f18b25ffffff           7  POLYGON ((13.39356 52.49604, 13.39443 52.48459...\n",
       "881f18b259fffff           8  POLYGON ((13.40329 52.50157, 13.40107 52.49732..."
      ]
     },
     "execution_count": 8,
     "metadata": {},
     "output_type": "execute_result"
    }
   ],
   "source": [
    "resolutions = [res for res in range(9)]\n",
    "h3s = [gdf.h3.geo_to_h3(res).index[0] for res in resolutions]\n",
    "df  = pd.DataFrame({'resolution': resolutions, 'h3': h3s})\n",
    "gdf = df.set_index('h3').h3.h3_to_geo_boundary() # Adds geometry of the H3 hexagons\n",
    "gdf\n"
   ]
  },
  {
   "cell_type": "code",
   "execution_count": 9,
   "metadata": {},
   "outputs": [],
   "source": [
    "gdf.to_file('hexagons.geojson', driver=\"GeoJSON\")"
   ]
  },
  {
   "cell_type": "markdown",
   "metadata": {},
   "source": [
    "You'll probably decide to use resolution 2 or 3. With smaller resolutions, the hexagon might cut off parts of our area of interest. "
   ]
  },
  {
   "cell_type": "code",
   "execution_count": 13,
   "metadata": {},
   "outputs": [
    {
     "data": {
      "text/plain": [
       "'821f1ffffffffff'"
      ]
     },
     "execution_count": 13,
     "metadata": {},
     "output_type": "execute_result"
    }
   ],
   "source": [
    "use_res = 2\n",
    "\n",
    "s = gdf.index[use_res]\n",
    "s"
   ]
  },
  {
   "cell_type": "markdown",
   "metadata": {},
   "source": [
    "Have a look at the ID values above: \n",
    "- Ignore the first digit\n",
    "- The second digit refers to the resolution\n",
    "- From the 3rd digit on, new digits are added at each level, but these values are always the same for all parents / children.\n",
    "- The rest is filled with f.\n",
    "\n",
    "Note that we have the data as geopackage and a geopackage is basically a sqlite database. We know the data uses H3 in resolution 8 and it turns out we can select all children of a certain cell with a simple SQL query such as:\n",
    "\n",
    "`SELECT * FROM population WHERE h3 LIKE '881f1%';` \n",
    "\n"
   ]
  },
  {
   "cell_type": "markdown",
   "metadata": {},
   "source": [
    "To be precise, the string for the LIKE statement with our selected grandgrandparent hexagon would be:"
   ]
  },
  {
   "cell_type": "code",
   "execution_count": 18,
   "metadata": {},
   "outputs": [
    {
     "data": {
      "text/plain": [
       "'881f1%'"
      ]
     },
     "execution_count": 18,
     "metadata": {},
     "output_type": "execute_result"
    }
   ],
   "source": [
    "'88' + s[2:].rstrip('f') + '%'"
   ]
  },
  {
   "cell_type": "markdown",
   "metadata": {},
   "source": [
    "Now, simply open the database manager in QGIS and: \n",
    "- connect to the Kontur population geopackage, \n",
    "- open the query window, \n",
    "- enter and execute the query (took 20 seconds on my laptop), \n",
    "- check \"load as new layer\", \n",
    "- click \"load\".\n",
    "\n",
    "You might want to export the result, otherwise QGIS has to run the query again if you close and reopen the project."
   ]
  },
  {
   "cell_type": "code",
   "execution_count": null,
   "metadata": {},
   "outputs": [],
   "source": []
  }
 ],
 "metadata": {
  "kernelspec": {
   "display_name": "forge",
   "language": "python",
   "name": "forge"
  },
  "language_info": {
   "codemirror_mode": {
    "name": "ipython",
    "version": 3
   },
   "file_extension": ".py",
   "mimetype": "text/x-python",
   "name": "python",
   "nbconvert_exporter": "python",
   "pygments_lexer": "ipython3",
   "version": "3.10.12"
  },
  "orig_nbformat": 4
 },
 "nbformat": 4,
 "nbformat_minor": 2
}
