{
 "cells": [
  {
   "cell_type": "markdown",
   "id": "83ff5e0f-b86b-4c07-ae85-4a3b725b7aa6",
   "metadata": {},
   "source": [
    "# GPS tracks (GPX files) to Geopandas / Shapefile\n",
    "It is easy to open a complete folder of GPS Tracks (GPX files) in Geopandas, e.g. for plotting maps or to export them as shapefile."
   ]
  },
  {
   "cell_type": "code",
   "execution_count": null,
   "id": "645fe0df-0e1f-43cf-8def-6df906589a91",
   "metadata": {},
   "outputs": [],
   "source": [
    "import geopandas as gpd\n",
    "import os"
   ]
  },
  {
   "cell_type": "code",
   "execution_count": null,
   "id": "61ec4fb5-2fbc-481d-8dc5-51cc3f58ec8b",
   "metadata": {},
   "outputs": [],
   "source": [
    "folder = \"gpx/\""
   ]
  },
  {
   "cell_type": "markdown",
   "id": "e9e087b8-6db2-44e0-8d4a-ae0a62860ff6",
   "metadata": {},
   "source": [
    "I want a GeoDataFrame with 2 columns: 1) file name and 2) geometry of the track."
   ]
  },
  {
   "cell_type": "code",
   "execution_count": null,
   "id": "fffd82a4-d8f2-40d0-b399-bf775e9d54dd",
   "metadata": {},
   "outputs": [],
   "source": [
    "# Create empty GeoDataFrame\n",
    "track = gpd.GeoDataFrame(columns=['name', 'geometry'], geometry='geometry')"
   ]
  },
  {
   "cell_type": "markdown",
   "id": "e17738c2-a878-4c0a-b98f-e0e6f86dd2ed",
   "metadata": {},
   "source": [
    "Try to open all gpx files in folder. Geopandas uses fiona to open/parse gpx. The layer \"tracks\" only contains the track\n",
    "without waypoints/timestamps (good enough for this task). "
   ]
  },
  {
   "cell_type": "code",
   "execution_count": null,
   "id": "43acee05-ee92-46e2-a543-7b1a4a6721cf",
   "metadata": {},
   "outputs": [],
   "source": [
    "for file in os.listdir(folder):\n",
    "    if file.endswith(('.gpx')):\n",
    "        try:\n",
    "            gdf = gpd.read_file(folder + file, layer='tracks')\n",
    "            track = track.append(gdf[['name', 'geometry']])\n",
    "        except:\n",
    "            print(\"Error\", file)"
   ]
  },
  {
   "cell_type": "code",
   "execution_count": null,
   "id": "f2d74320-8039-454a-a57f-787b73ebd45c",
   "metadata": {},
   "outputs": [],
   "source": [
    "track.sort_values(by=\"name\", inplace=True)\n",
    "track.reset_index(inplace=True, drop=True)"
   ]
  },
  {
   "cell_type": "code",
   "execution_count": null,
   "id": "c6449904-3f7d-482e-8ec5-29289c3d4fb2",
   "metadata": {},
   "outputs": [],
   "source": [
    "track.head()"
   ]
  },
  {
   "cell_type": "code",
   "execution_count": null,
   "id": "6f24054d-951f-413d-8c42-44196f77b31a",
   "metadata": {},
   "outputs": [],
   "source": [
    "# Save tracks as Shapefile\n",
    "track.to_file(folder + 'track.shp')"
   ]
  },
  {
   "cell_type": "code",
   "execution_count": null,
   "id": "45315ea5-cb9d-442a-b334-ae788598100b",
   "metadata": {},
   "outputs": [],
   "source": [
    "# Simple plot\n",
    "track.plot()"
   ]
  },
  {
   "cell_type": "code",
   "execution_count": null,
   "id": "3db9cd47-7709-4c25-9f93-3a3d2c24ef65",
   "metadata": {},
   "outputs": [],
   "source": []
  }
 ],
 "metadata": {
  "kernelspec": {
   "display_name": "Python 3 (ipykernel)",
   "language": "python",
   "name": "python3"
  },
  "language_info": {
   "codemirror_mode": {
    "name": "ipython",
    "version": 3
   },
   "file_extension": ".py",
   "mimetype": "text/x-python",
   "name": "python",
   "nbconvert_exporter": "python",
   "pygments_lexer": "ipython3",
   "version": "3.8.12"
  }
 },
 "nbformat": 4,
 "nbformat_minor": 5
}
