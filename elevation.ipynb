{
 "cells": [
  {
   "cell_type": "markdown",
   "id": "03bb7405-3b38-475e-b317-c579c7cfc733",
   "metadata": {},
   "source": [
    "# GPX elevation\n",
    "Notebook by [Florian Neukirchen](https://www.riannek.de/). \n",
    "For detailed explanation see my blog: https://www.riannek.de/2022/elevation-to-gps-track-python/"
   ]
  },
  {
   "cell_type": "code",
   "execution_count": null,
   "id": "b48a89e1-c329-48a4-964d-995c233acc49",
   "metadata": {},
   "outputs": [],
   "source": [
    "import pandas as pd\n",
    "import geopandas as gpd\n",
    "import numpy as np\n",
    "import os\n",
    "import elevation\n",
    "import rasterio"
   ]
  },
  {
   "cell_type": "code",
   "execution_count": null,
   "id": "2f1540ff-b807-41ed-90ae-3b10059129cf",
   "metadata": {},
   "outputs": [],
   "source": [
    "track_in = 'gpx/2021-05-22-163014.gpx' \n",
    "track_out = 'test.gpx'\n",
    "\n",
    "dem_file = '2021-05-22-163014.tif' \n",
    "demfolder = \"dem\" # Where to save the DEM\n",
    "\n",
    "# Note: this uses GDAL under the hood\n",
    "# https://gdal.org/drivers/vector/gpx.html\n",
    "gdf = gpd.read_file(track_in, layer='track_points')\n",
    "\n",
    "# GDAL returns a lot of useless columns with \"None\" values\n",
    "gdf.dropna(axis=1, inplace=True)\n",
    "\n",
    "# This is important if we want to save as GPX\n",
    "gdf['time'] = pd.to_datetime(gdf['time'])\n",
    "\n",
    "gdf.head()"
   ]
  },
  {
   "cell_type": "code",
   "execution_count": null,
   "id": "4d2f7699-1e5c-4575-89e9-ddf504778ffd",
   "metadata": {},
   "outputs": [],
   "source": [
    "gdf.drop(columns='ele', inplace=True)\n",
    "gdf.head()"
   ]
  },
  {
   "cell_type": "code",
   "execution_count": null,
   "id": "ae98a50a-7dd4-4e15-b965-8401b4bec161",
   "metadata": {},
   "outputs": [],
   "source": [
    "# Get the bounds of the track\n",
    "minx, miny, maxx, maxy = gdf.dissolve().bounds.loc[0]\n",
    "\n",
    "# You might want to add some margin if you want to use the DEM for other tracks/tasks\n",
    "minx, miny, maxx, maxy = bounds  = minx - .05, miny - .05, maxx + .05, maxy + .05\n",
    "bounds"
   ]
  },
  {
   "cell_type": "markdown",
   "id": "10a53a04-d7e7-4001-a3ea-7e761d46517b",
   "metadata": {},
   "source": [
    "## Get the DEM"
   ]
  },
  {
   "cell_type": "code",
   "execution_count": null,
   "id": "1d1dba44-957c-4147-8f6c-c015938ac974",
   "metadata": {},
   "outputs": [],
   "source": [
    "# make sure the dem folder does exist\n",
    "# (otherwise the module elevation fails)\n",
    "if not os.path.exists(demfolder):\n",
    "    os.mkdir(demfolder)\n",
    "    \n",
    "# the module elevation does not work with relative paths\n",
    "dem_file = os.path.join(os.getcwd(), demfolder, dem_file)"
   ]
  },
  {
   "cell_type": "code",
   "execution_count": null,
   "id": "df382c59-d7e9-48c9-b1cd-f3637e91b7f4",
   "metadata": {},
   "outputs": [],
   "source": [
    "# Download DEM \n",
    "elevation.clip(bounds=bounds, output=dem_file)\n",
    "\n",
    "# Clean temporary files\n",
    "elevation.clean()"
   ]
  },
  {
   "cell_type": "code",
   "execution_count": null,
   "id": "c425121c-b03c-4b0e-936d-4ed34089bba8",
   "metadata": {},
   "outputs": [],
   "source": [
    "# Open the DEM \n",
    "dem_data = rasterio.open(dem_file)"
   ]
  },
  {
   "cell_type": "code",
   "execution_count": null,
   "id": "e7442e63-686b-4179-8b4a-45ca89c3022f",
   "metadata": {},
   "outputs": [],
   "source": [
    "# The CRS is EPSG 4326 = WGS84\n",
    "# (The same CRS as used by GPS devices)\n",
    "dem_data.crs"
   ]
  },
  {
   "cell_type": "code",
   "execution_count": null,
   "id": "8f894ee2-edcf-4f59-90bb-19079f0238ea",
   "metadata": {},
   "outputs": [],
   "source": [
    "dem_data.width"
   ]
  },
  {
   "cell_type": "code",
   "execution_count": null,
   "id": "61c2e073-2bd1-480e-a461-a353bab81212",
   "metadata": {},
   "outputs": [],
   "source": [
    "dem_data.height"
   ]
  },
  {
   "cell_type": "code",
   "execution_count": null,
   "id": "7e7751a0-08a4-46dc-a80c-51e515038036",
   "metadata": {},
   "outputs": [],
   "source": [
    "dem_data.bounds"
   ]
  },
  {
   "cell_type": "code",
   "execution_count": null,
   "id": "1bebd303-1add-4201-b6ec-330026c30c89",
   "metadata": {},
   "outputs": [],
   "source": [
    "# It has one channel ...\n",
    "dem_data.count"
   ]
  },
  {
   "cell_type": "code",
   "execution_count": null,
   "id": "978b3428-8d98-4597-b6d6-3340b2f7a68f",
   "metadata": {},
   "outputs": [],
   "source": [
    "# ... and we want this channel as array\n",
    "dem_array = dem_data.read(1)"
   ]
  },
  {
   "cell_type": "markdown",
   "id": "00dae91c-466b-4b7d-9cbc-b4ec9438032a",
   "metadata": {},
   "source": [
    "## Sample the DEM\n",
    "(using my alternative approach in 03_runkeeper)\n",
    "\n",
    "All the magic is happening here: dem_data.index() takes a set of coordinates and returns the index values of our array. We can use these index values to get the value from the array. Note: GPX uses the tag `<ele></ele>` for elevation."
   ]
  },
  {
   "cell_type": "code",
   "execution_count": null,
   "id": "c0954bf0-3052-46d9-b051-ac2319d34e33",
   "metadata": {},
   "outputs": [],
   "source": [
    "gdf['ele'] = dem_array[dem_data.index(gdf['geometry'].x , gdf['geometry'].y)]\n",
    "\n",
    "# Note that we get ele values as int. \n",
    "# To save as GPX, ele must be as float.\n",
    "gdf['ele'] = gdf['ele'].astype(float)\n",
    "\n",
    "gdf.head()"
   ]
  },
  {
   "cell_type": "markdown",
   "id": "7b06b253-10b3-4315-b973-9ca802e9a1c3",
   "metadata": {},
   "source": [
    "## Save as GPX\n",
    "Note: This fails if the file already exists!"
   ]
  },
  {
   "cell_type": "code",
   "execution_count": null,
   "id": "8b587c52-8e63-4045-8186-beb9da57a4f1",
   "metadata": {},
   "outputs": [],
   "source": [
    "gdf.to_file(track_out, 'GPX', layer='track_points')"
   ]
  },
  {
   "cell_type": "markdown",
   "id": "4ca4f9e6-5d54-4856-9c8c-f637efdc41e7",
   "metadata": {
    "tags": []
   },
   "source": [
    "## Extra: Have a look at the DEM"
   ]
  },
  {
   "cell_type": "code",
   "execution_count": null,
   "id": "8bf7dffe-d404-4b42-a835-f625f9a87893",
   "metadata": {},
   "outputs": [],
   "source": [
    "import seaborn as sns\n",
    "# Histplot of elevations\n",
    "sns.displot(dem_array.ravel())"
   ]
  },
  {
   "cell_type": "code",
   "execution_count": null,
   "id": "e5933b9e-2fff-4c59-95b1-c5c6f5af6f3d",
   "metadata": {},
   "outputs": [],
   "source": [
    "# Save figure\n",
    "sns.displot(dem_array.ravel()).savefig('dem-hist.png')"
   ]
  },
  {
   "cell_type": "code",
   "execution_count": null,
   "id": "72ac3db5-4229-4fbc-b8ef-2fa8ce2ca096",
   "metadata": {},
   "outputs": [],
   "source": [
    "import matplotlib.pyplot as plt\n",
    "\n",
    "vmin = dem_array.min()\n",
    "vmax = dem_array.max()\n",
    "extent = minx, maxx, miny, maxy\n",
    "\n",
    "fig, ax = plt.subplots()\n",
    "cax = plt.imshow(dem_array, extent=extent, \n",
    "                  cmap='Spectral_r', vmin=vmin, vmax=vmax)\n",
    "fig.colorbar(cax, ax=ax)\n",
    "gdf.plot(ax=ax, markersize=1, zorder=11)"
   ]
  },
  {
   "cell_type": "code",
   "execution_count": null,
   "id": "518c6691-4647-4a2a-b91b-1789fb75c2a9",
   "metadata": {},
   "outputs": [],
   "source": [
    "fig.savefig('gersb-dem.png')"
   ]
  },
  {
   "cell_type": "code",
   "execution_count": null,
   "id": "d9f2066c-ff2e-4d0c-a18a-e3e915d3b954",
   "metadata": {},
   "outputs": [],
   "source": []
  }
 ],
 "metadata": {
  "kernelspec": {
   "display_name": "forge",
   "language": "python",
   "name": "forge"
  },
  "language_info": {
   "codemirror_mode": {
    "name": "ipython",
    "version": 3
   },
   "file_extension": ".py",
   "mimetype": "text/x-python",
   "name": "python",
   "nbconvert_exporter": "python",
   "pygments_lexer": "ipython3",
   "version": "3.10.4"
  }
 },
 "nbformat": 4,
 "nbformat_minor": 5
}
