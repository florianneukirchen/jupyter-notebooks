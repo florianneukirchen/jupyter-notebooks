{
 "cells": [
  {
   "cell_type": "markdown",
   "id": "03bb7405-3b38-475e-b317-c579c7cfc733",
   "metadata": {},
   "source": [
    "# GPX elevation\n",
    "Notebook by [Florian Neukirchen](https://www.riannek.de/). \n",
    "For detailed explanation see my blog: https://www.riannek.de/2022/elevation-to-gps-track-python/"
   ]
  },
  {
   "cell_type": "code",
   "execution_count": null,
   "id": "b48a89e1-c329-48a4-964d-995c233acc49",
   "metadata": {},
   "outputs": [],
   "source": [
    "import pandas as pd\n",
    "import geopandas as gpd\n",
    "import numpy as np\n",
    "import os\n",
    "import elevation\n",
    "import rasterio"
   ]
  },
  {
   "cell_type": "code",
   "execution_count": null,
   "id": "2f1540ff-b807-41ed-90ae-3b10059129cf",
   "metadata": {},
   "outputs": [],
   "source": [
    "track_in = 'gpx/2021-05-22-163014.gpx' \n",
    "track_out = 'test.gpx'\n",
    "\n",
    "dem_file = '2021-05-22-163014.tif' \n",
    "demfolder = \"dem\" # Where to save the DEM\n",
    "\n",
    "# Note: this uses GDAL under the hood\n",
    "# https://gdal.org/drivers/vector/gpx.html\n",
    "gdf = gpd.read_file(track_in, layer='track_points')\n",
    "\n",
    "# GDAL returns a lot of useless columns with \"None\" values\n",
    "gdf.dropna(axis=1, inplace=True)\n",
    "\n",
    "# This is important if we want to save as GPX\n",
    "gdf['time'] = pd.to_datetime(gdf['time'])\n",
    "\n",
    "gdf.head()"
   ]
  },
  {
   "cell_type": "code",
   "execution_count": null,
   "id": "4d2f7699-1e5c-4575-89e9-ddf504778ffd",
   "metadata": {},
   "outputs": [],
   "source": [
    "gdf.drop(columns='ele', inplace=True)\n",
    "gdf.head()"
   ]
  },
  {
   "cell_type": "code",
   "execution_count": null,
   "id": "ae98a50a-7dd4-4e15-b965-8401b4bec161",
   "metadata": {},
   "outputs": [],
   "source": [
    "# Get the bounds of the track\n",
    "minx, miny, maxx, maxy = gdf.dissolve().bounds.loc[0]\n",
    "\n",
    "# You might want to add some margin if you want to use the DEM for other tracks/tasks\n",
    "minx, miny, maxx, maxy = bounds  = minx - .05, miny - .05, maxx + .05, maxy + .05\n",
    "bounds"
   ]
  },
  {
   "cell_type": "markdown",
   "id": "10a53a04-d7e7-4001-a3ea-7e761d46517b",
   "metadata": {},
   "source": [
    "## Get the DEM"
   ]
  },
  {
   "cell_type": "code",
   "execution_count": null,
   "id": "1d1dba44-957c-4147-8f6c-c015938ac974",
   "metadata": {},
   "outputs": [],
   "source": [
    "# make sure the dem folder does exist\n",
    "# (otherwise the module elevation fails)\n",
    "if not os.path.exists(demfolder):\n",
    "    os.mkdir(demfolder)\n",
    "    \n",
    "# the module elevation does not work with relative paths\n",
    "dem_file = os.path.join(os.getcwd(), demfolder, dem_file)"
   ]
  },
  {
   "cell_type": "code",
   "execution_count": null,
   "id": "df382c59-d7e9-48c9-b1cd-f3637e91b7f4",
   "metadata": {},
   "outputs": [],
   "source": [
    "# Download DEM \n",
    "elevation.clip(bounds=bounds, output=dem_file)\n",
    "\n",
    "# Clean temporary files\n",
    "elevation.clean()"
   ]
  },
  {
   "cell_type": "code",
   "execution_count": null,
   "id": "c425121c-b03c-4b0e-936d-4ed34089bba8",
   "metadata": {},
   "outputs": [],
   "source": [
    "# Open the DEM \n",
    "dem_data = rasterio.open(dem_file)"
   ]
  },
  {
   "cell_type": "code",
   "execution_count": null,
   "id": "e7442e63-686b-4179-8b4a-45ca89c3022f",
   "metadata": {},
   "outputs": [],
   "source": [
    "# The CRS is EPSG 4326 = WGS84\n",
    "# (The same CRS as used by GPS devices)\n",
    "dem_data.crs"
   ]
  },
  {
   "cell_type": "code",
   "execution_count": null,
   "id": "8f894ee2-edcf-4f59-90bb-19079f0238ea",
   "metadata": {},
   "outputs": [],
   "source": [
    "dem_data.width"
   ]
  },
  {
   "cell_type": "code",
   "execution_count": null,
   "id": "61c2e073-2bd1-480e-a461-a353bab81212",
   "metadata": {},
   "outputs": [],
   "source": [
    "dem_data.height"
   ]
  },
  {
   "cell_type": "code",
   "execution_count": null,
   "id": "7e7751a0-08a4-46dc-a80c-51e515038036",
   "metadata": {},
   "outputs": [],
   "source": [
    "dem_data.bounds"
   ]
  },
  {
   "cell_type": "code",
   "execution_count": null,
   "id": "1bebd303-1add-4201-b6ec-330026c30c89",
   "metadata": {},
   "outputs": [],
   "source": [
    "# It has one channel ...\n",
    "dem_data.count"
   ]
  },
  {
   "cell_type": "code",
   "execution_count": null,
   "id": "978b3428-8d98-4597-b6d6-3340b2f7a68f",
   "metadata": {},
   "outputs": [],
   "source": [
    "# ... and we want this channel as array\n",
    "dem_array = dem_data.read(1)"
   ]
  },
  {
   "cell_type": "markdown",
   "id": "00dae91c-466b-4b7d-9cbc-b4ec9438032a",
   "metadata": {},
   "source": [
    "## Sample the DEM\n",
    "All the magic is happening here: dem_data.index() takes a set of coordinates and returns the index values of our array. We can use these index values to get the value from the array. Note: GPX uses the tag `<ele></ele>` for elevation."
   ]
  },
  {
   "cell_type": "code",
   "execution_count": null,
   "id": "c0954bf0-3052-46d9-b051-ac2319d34e33",
   "metadata": {},
   "outputs": [],
   "source": [
    "gdf['ele'] = dem_array[dem_data.index(gdf['geometry'].x , gdf['geometry'].y)]\n",
    "\n",
    "# Note that we get ele values as int. \n",
    "# To save as GPX, ele must be as float.\n",
    "gdf['ele'] = gdf['ele'].astype(float)\n",
    "\n",
    "gdf.head()"
   ]
  },
  {
   "cell_type": "markdown",
   "id": "71589a93-953d-4346-adeb-626c415dcfe5",
   "metadata": {},
   "source": [
    "Since our data was int, the result looks a bit stepped. For a smoother approach see below."
   ]
  },
  {
   "cell_type": "markdown",
   "id": "7b06b253-10b3-4315-b973-9ca802e9a1c3",
   "metadata": {},
   "source": [
    "## Save as GPX\n",
    "Note: This fails if the file already exists!"
   ]
  },
  {
   "cell_type": "code",
   "execution_count": null,
   "id": "8b587c52-8e63-4045-8186-beb9da57a4f1",
   "metadata": {},
   "outputs": [],
   "source": [
    "gdf.to_file(track_out, 'GPX', layer='track_points')"
   ]
  },
  {
   "cell_type": "markdown",
   "id": "e1176812-103b-4363-bd1b-ae9a1e8837ce",
   "metadata": {},
   "source": [
    "## Extra: Plot a profile\n",
    "To plot a profile, we first need the distance along the track. I project the geometry to UTM to get it in meters. With pyproj >= 3 it is easy to get the UTM zone."
   ]
  },
  {
   "cell_type": "code",
   "execution_count": null,
   "id": "0a4e453a-3af4-4ced-9165-f1347789a58f",
   "metadata": {},
   "outputs": [],
   "source": [
    "profile = gdf[['geometry', 'ele']]\n",
    "profile = profile.to_crs(profile.estimate_utm_crs())"
   ]
  },
  {
   "cell_type": "markdown",
   "id": "ddea6ce4-3a01-4c00-a5f6-f51eadec5435",
   "metadata": {},
   "source": [
    "We use a shifted GeoDataFrame (shift index by 1) to easily calculate the distance from point to point"
   ]
  },
  {
   "cell_type": "code",
   "execution_count": null,
   "id": "27975980-f215-43d0-96d3-1c7907f908ca",
   "metadata": {},
   "outputs": [],
   "source": [
    "shifted = profile.shift()"
   ]
  },
  {
   "cell_type": "code",
   "execution_count": null,
   "id": "2afc9d7e-11e6-4023-b84f-194a43ffadf3",
   "metadata": {},
   "outputs": [],
   "source": [
    "profile['distance'] = profile.distance(shifted)\n",
    "profile['distance'] = profile['distance'].fillna(value=0)\n",
    "profile['distance'] = profile['distance'].cumsum()\n",
    "profile['distance'] = profile['distance']/1000 # distance in km"
   ]
  },
  {
   "cell_type": "code",
   "execution_count": null,
   "id": "142799e3-5a78-4427-87b5-737f9602b7fb",
   "metadata": {},
   "outputs": [],
   "source": [
    "profile.drop(columns='geometry', inplace=True)"
   ]
  },
  {
   "cell_type": "code",
   "execution_count": null,
   "id": "ddab5ff0-c2e2-4b65-8ad4-24ed0012e44f",
   "metadata": {},
   "outputs": [],
   "source": [
    "import seaborn as sns\n",
    "sns.relplot(x=\"distance\", y=\"ele\", data=profile, kind='line', height=3, aspect=5);"
   ]
  },
  {
   "cell_type": "markdown",
   "id": "4ca4f9e6-5d54-4856-9c8c-f637efdc41e7",
   "metadata": {
    "tags": []
   },
   "source": [
    "## Extra: Have a look at the DEM"
   ]
  },
  {
   "cell_type": "code",
   "execution_count": null,
   "id": "8bf7dffe-d404-4b42-a835-f625f9a87893",
   "metadata": {},
   "outputs": [],
   "source": [
    "# Histplot of elevations\n",
    "sns.displot(dem_array.ravel())"
   ]
  },
  {
   "cell_type": "code",
   "execution_count": null,
   "id": "72ac3db5-4229-4fbc-b8ef-2fa8ce2ca096",
   "metadata": {},
   "outputs": [],
   "source": [
    "import matplotlib.pyplot as plt\n",
    "\n",
    "vmin = dem_array.min()\n",
    "vmax = dem_array.max()\n",
    "extent = minx, maxx, miny, maxy\n",
    "\n",
    "fig, ax = plt.subplots()\n",
    "cax = plt.imshow(dem_array, extent=extent, \n",
    "                  cmap='Spectral_r', vmin=vmin, vmax=vmax)\n",
    "fig.colorbar(cax, ax=ax)\n",
    "gdf.plot(ax=ax, markersize=1, zorder=11)"
   ]
  },
  {
   "cell_type": "markdown",
   "id": "a671d284-a42d-4674-9159-f6d5d16b84e6",
   "metadata": {},
   "source": [
    "## Get smoother elevation"
   ]
  },
  {
   "cell_type": "code",
   "execution_count": null,
   "id": "15f45459-75a2-4cbe-a210-52eade51de61",
   "metadata": {},
   "outputs": [],
   "source": [
    "upscale_factor = 5\n",
    "\n",
    "dem_array_float = dem_array.astype(float)\n",
    "\n",
    "from scipy import ndimage\n",
    "\n",
    "# Blur to reduce the steps in the DEM.\n",
    "# With sigma 0.33 I am still very close to the original.\n",
    "dem_array_float = ndimage.gaussian_filter(dem_array_float, sigma=0.33)\n",
    "\n",
    "# Upscale the array\n",
    "# Note: zoom() resamples with cubic interpolation with order=3 (default) \n",
    "dem_array_float = ndimage.zoom(dem_array_float, upscale_factor).round(decimals=1)\n",
    "\n",
    "\n",
    "# Scale the transform matrix\n",
    "transform = dem_data.transform * dem_data.transform.scale(\n",
    "        (dem_data.width / dem_array_float.shape[-1]),\n",
    "        (dem_data.height / dem_array_float.shape[-2])\n",
    "    )"
   ]
  },
  {
   "cell_type": "code",
   "execution_count": null,
   "id": "e0c12df8-740a-4481-adeb-ac6e91737acd",
   "metadata": {},
   "outputs": [],
   "source": [
    "gdf['ele_resample'] = dem_array_float[rasterio.transform.rowcol(transform, gdf['geometry'].x, gdf['geometry'].y)]\n",
    "gdf.head()"
   ]
  },
  {
   "cell_type": "markdown",
   "id": "6c0a1fe2-3016-444b-ab08-eeffc8ddaed1",
   "metadata": {},
   "source": [
    "Profile:"
   ]
  },
  {
   "cell_type": "code",
   "execution_count": null,
   "id": "e9a89759-4e96-45b9-9dc1-ad046f1a7ca9",
   "metadata": {},
   "outputs": [],
   "source": [
    "profile['ele2'] = gdf['ele_resample']\n",
    "sns.relplot(x=\"distance\", y=\"ele2\", data=profile, kind='line', height=3, aspect=5);"
   ]
  },
  {
   "cell_type": "markdown",
   "id": "cf229b6c-368e-4c7e-b7bb-27fab24b524d",
   "metadata": {},
   "source": [
    "Both profiles:"
   ]
  },
  {
   "cell_type": "code",
   "execution_count": null,
   "id": "11de21db-8a6e-452d-8e23-cad22538981c",
   "metadata": {},
   "outputs": [],
   "source": [
    "sns.relplot(x=\"distance\", y=\"value\", data=profile.melt(id_vars='distance'), hue='variable', kind='line', aspect=2.5);"
   ]
  },
  {
   "cell_type": "code",
   "execution_count": null,
   "id": "c821b01c-8369-4ff4-8aa2-9cecdd894751",
   "metadata": {},
   "outputs": [],
   "source": []
  }
 ],
 "metadata": {
  "kernelspec": {
   "display_name": "forge",
   "language": "python",
   "name": "forge"
  },
  "language_info": {
   "codemirror_mode": {
    "name": "ipython",
    "version": 3
   },
   "file_extension": ".py",
   "mimetype": "text/x-python",
   "name": "python",
   "nbconvert_exporter": "python",
   "pygments_lexer": "ipython3",
   "version": "3.10.8"
  }
 },
 "nbformat": 4,
 "nbformat_minor": 5
}
